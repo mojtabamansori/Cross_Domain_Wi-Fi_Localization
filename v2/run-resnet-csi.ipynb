{
 "cells": [
  {
   "cell_type": "code",
   "execution_count": 1,
   "id": "93ee02a5",
   "metadata": {
    "execution": {
     "iopub.execute_input": "2025-01-18T14:42:25.863316Z",
     "iopub.status.busy": "2025-01-18T14:42:25.863000Z",
     "iopub.status.idle": "2025-01-18T14:42:30.436591Z",
     "shell.execute_reply": "2025-01-18T14:42:30.435467Z"
    },
    "papermill": {
     "duration": 4.579529,
     "end_time": "2025-01-18T14:42:30.438096",
     "exception": false,
     "start_time": "2025-01-18T14:42:25.858567",
     "status": "completed"
    },
    "tags": []
   },
   "outputs": [
    {
     "name": "stdout",
     "output_type": "stream",
     "text": [
      "Collecting ptflops\r\n",
      "  Downloading ptflops-0.7.4-py3-none-any.whl.metadata (9.4 kB)\r\n",
      "Requirement already satisfied: torch>=2.0 in /usr/local/lib/python3.10/dist-packages (from ptflops) (2.4.1+cu121)\r\n",
      "Requirement already satisfied: filelock in /usr/local/lib/python3.10/dist-packages (from torch>=2.0->ptflops) (3.16.1)\r\n",
      "Requirement already satisfied: typing-extensions>=4.8.0 in /usr/local/lib/python3.10/dist-packages (from torch>=2.0->ptflops) (4.12.2)\r\n",
      "Requirement already satisfied: sympy in /usr/local/lib/python3.10/dist-packages (from torch>=2.0->ptflops) (1.13.3)\r\n",
      "Requirement already satisfied: networkx in /usr/local/lib/python3.10/dist-packages (from torch>=2.0->ptflops) (3.3)\r\n",
      "Requirement already satisfied: jinja2 in /usr/local/lib/python3.10/dist-packages (from torch>=2.0->ptflops) (3.1.4)\r\n",
      "Requirement already satisfied: fsspec in /usr/local/lib/python3.10/dist-packages (from torch>=2.0->ptflops) (2024.6.1)\r\n",
      "Requirement already satisfied: MarkupSafe>=2.0 in /usr/local/lib/python3.10/dist-packages (from jinja2->torch>=2.0->ptflops) (2.1.5)\r\n",
      "Requirement already satisfied: mpmath<1.4,>=1.1.0 in /usr/local/lib/python3.10/dist-packages (from sympy->torch>=2.0->ptflops) (1.3.0)\r\n",
      "Downloading ptflops-0.7.4-py3-none-any.whl (19 kB)\r\n",
      "Installing collected packages: ptflops\r\n",
      "Successfully installed ptflops-0.7.4\r\n"
     ]
    }
   ],
   "source": [
    "!pip install ptflops"
   ]
  },
  {
   "cell_type": "code",
   "execution_count": 2,
   "id": "6e7932aa",
   "metadata": {
    "execution": {
     "iopub.execute_input": "2025-01-18T14:42:30.445562Z",
     "iopub.status.busy": "2025-01-18T14:42:30.445259Z",
     "iopub.status.idle": "2025-01-18T14:42:30.453163Z",
     "shell.execute_reply": "2025-01-18T14:42:30.452495Z"
    },
    "papermill": {
     "duration": 0.012827,
     "end_time": "2025-01-18T14:42:30.454399",
     "exception": false,
     "start_time": "2025-01-18T14:42:30.441572",
     "status": "completed"
    },
    "tags": []
   },
   "outputs": [],
   "source": [
    "\"\"\"\n",
    "[file]          preset.py\n",
    "[description]   default settings of WiFi-based models\n",
    "\"\"\"\n",
    "#\n",
    "##\n",
    "preset = {\n",
    "    #\n",
    "    ## define model\n",
    "    \"model\": \"resnet\",                                    # \"ST-RF\", \"MLP\", \"LSTM\", \"CNN-1D\", \"CNN-2D\", \"CLSTM\", \"ABLSTM\", \"THAT\",\"Swin\"\n",
    "    #\n",
    "    ## define task\n",
    "    \"task\": \"location\",                                 # \"identity\", \"activity\", \"location\"\n",
    "    #\n",
    "    ## number of repeated experiments\n",
    "    \"repeat\": 1,\n",
    "    #\n",
    "\n",
    "    #\n",
    "    ## data selection for experiments\n",
    "    \"data\": {\n",
    "        \"num_users\": [\"0\", \"1\", \"2\", \"3\", \"4\", \"5\"],    # select number(s) of users, (e.g., [\"0\", \"1\"], [\"2\", \"3\", \"4\", \"5\"])\n",
    "        \"wifi_band\": [\"2.4\"],                           # select WiFi band(s) (e.g., [\"2.4\"], [\"5\"], [\"2.4\", \"5\"])\n",
    "        \"environment\": [\"classroom\"],                   # select environment(s) (e.g., [\"classroom\"], [\"meeting_room\"], [\"empty_room\"])\n",
    "        \"length\": 3000,                                 # default length of CSI\n",
    "    },\n",
    "    #\n",
    "    ## hyperparameters of models\n",
    "    \"nn\": {\n",
    "        \"lr\": 1e-3,                                     # learning rate\n",
    "        \"epoch\": 120,                                   # number of epochs\n",
    "        \"batch_size\": 32,                              # batch size\n",
    "        \"threshold\": 0.5,                               # threshold to binarize sigmoid outputs\n",
    "    },\n",
    "## path of data\n",
    "    \"path\": {\n",
    "        \"data_x\": \"/kaggle/input/wimans/wifi_csi/amp\",               # directory of CSI amplitude files\n",
    "        \"data_y\": \"/kaggle/input/wimans/annotation.csv\",             # path of annotation file\n",
    "        \"save\": f\"result_resnet_epoch=120_batchsize=32_envs=classroom_wifiband=2.4.json\"                           # path to save results\n",
    "    },\n",
    "    #\n",
    "    ## encoding of activities and locations\n",
    "    \"encoding\": {\n",
    "        \"activity\": {                                   # encoding of different activities\n",
    "            \"nan\":      [0, 0, 0, 0, 0, 0, 0, 0, 0],\n",
    "            \"nothing\":  [1, 0, 0, 0, 0, 0, 0, 0, 0],\n",
    "            \"walk\":     [0, 1, 0, 0, 0, 0, 0, 0, 0],\n",
    "            \"rotation\": [0, 0, 1, 0, 0, 0, 0, 0, 0],\n",
    "            \"jump\":     [0, 0, 0, 1, 0, 0, 0, 0, 0],\n",
    "            \"wave\":     [0, 0, 0, 0, 1, 0, 0, 0, 0],\n",
    "            \"lie_down\": [0, 0, 0, 0, 0, 1, 0, 0, 0],\n",
    "            \"pick_up\":  [0, 0, 0, 0, 0, 0, 1, 0, 0],\n",
    "            \"sit_down\": [0, 0, 0, 0, 0, 0, 0, 1, 0],\n",
    "            \"stand_up\": [0, 0, 0, 0, 0, 0, 0, 0, 1],\n",
    "        },\n",
    "        \"location\": {                                   # encoding of different locations\n",
    "            \"nan\":  [0, 0, 0, 0, 0],\n",
    "            \"a\":    [1, 0, 0, 0, 0],\n",
    "            \"b\":    [0, 1, 0, 0, 0],\n",
    "            \"c\":    [0, 0, 1, 0, 0],\n",
    "            \"d\":    [0, 0, 0, 1, 0],\n",
    "            \"e\":    [0, 0, 0, 0, 1],\n",
    "        },\n",
    "    },\n",
    "}\n"
   ]
  },
  {
   "cell_type": "code",
   "execution_count": 3,
   "id": "3ced06e4",
   "metadata": {
    "execution": {
     "iopub.execute_input": "2025-01-18T14:42:30.461076Z",
     "iopub.status.busy": "2025-01-18T14:42:30.460863Z",
     "iopub.status.idle": "2025-01-18T14:42:35.621349Z",
     "shell.execute_reply": "2025-01-18T14:42:35.620448Z"
    },
    "papermill": {
     "duration": 5.165621,
     "end_time": "2025-01-18T14:42:35.622908",
     "exception": false,
     "start_time": "2025-01-18T14:42:30.457287",
     "status": "completed"
    },
    "tags": []
   },
   "outputs": [],
   "source": [
    "import time\n",
    "import torch\n",
    "from torch import device\n",
    "from torch.nn import Module\n",
    "from torch.optim import Optimizer\n",
    "from torch.utils.data import TensorDataset, DataLoader\n",
    "from copy import deepcopy\n",
    "from sklearn.metrics import accuracy_score\n",
    "from tqdm import tqdm\n",
    "\n",
    "torch.set_float32_matmul_precision(\"high\")\n",
    "torch._dynamo.config.cache_size_limit = 65536\n",
    "\n",
    "\n",
    "def train(model: Module,\n",
    "          optimizer: Optimizer,\n",
    "          loss: Module,\n",
    "          data_train_set: TensorDataset,\n",
    "          data_test_set: TensorDataset,\n",
    "          var_threshold: float,\n",
    "          var_batch_size: int,\n",
    "          var_epochs: int,\n",
    "          device: device):\n",
    "    data_train_loader = DataLoader(data_train_set, var_batch_size, shuffle=True, pin_memory=True)\n",
    "    data_test_loader = DataLoader(data_test_set, var_batch_size)\n",
    "\n",
    "    var_best_accuracy = 0\n",
    "    var_best_weight = None\n",
    "\n",
    "    for var_epoch in tqdm(range(var_epochs)):\n",
    "        # --------------------------\n",
    "        # Training\n",
    "        # --------------------------\n",
    "        model.train()\n",
    "        total_train_loss = 0\n",
    "        total_train_accuracy = 0\n",
    "        train_batches = 0\n",
    "\n",
    "        for batch_index, data_batch in enumerate(data_train_loader):\n",
    "\n",
    "            data_batch_x, data_batch_y = data_batch\n",
    "            data_batch_x = data_batch_x.to(device)\n",
    "            data_batch_y = data_batch_y.to(device)\n",
    "\n",
    "            predict_train_y = model(data_batch_x)\n",
    "            var_loss_train = loss(predict_train_y, data_batch_y.reshape(data_batch_y.shape[0], -1).float())\n",
    "\n",
    "            optimizer.zero_grad()\n",
    "            var_loss_train.backward()\n",
    "            optimizer.step()\n",
    "\n",
    "            # Calculate batch accuracy\n",
    "            predict_train_y = (torch.sigmoid(predict_train_y) > var_threshold).float()\n",
    "            data_batch_y = data_batch_y.detach().cpu().numpy()\n",
    "            predict_train_y = predict_train_y.detach().cpu().numpy()\n",
    "            predict_train_y = predict_train_y.reshape(-1, data_batch_y.shape[-1])\n",
    "            data_batch_y = data_batch_y.reshape(-1, data_batch_y.shape[-1])\n",
    "            batch_accuracy = accuracy_score(data_batch_y.astype(float), predict_train_y.astype(float))\n",
    "            total_train_loss += var_loss_train.item()\n",
    "            total_train_accuracy += batch_accuracy\n",
    "            train_batches += 1\n",
    "\n",
    "            \n",
    "\n",
    "        # Calculate average training accuracy and loss\n",
    "        average_train_loss = total_train_loss / train_batches\n",
    "        average_train_accuracy = total_train_accuracy / train_batches\n",
    "        print(f\"Epoch {var_epoch}/{var_epochs} - Average Training Loss: {average_train_loss:.6f} - \"\n",
    "              f\"Average Training Accuracy: {average_train_accuracy:.6f}\")\n",
    "\n",
    "        # --------------------------\n",
    "        # Testing\n",
    "        # --------------------------\n",
    "        model.eval()\n",
    "        total_test_loss = 0\n",
    "        total_test_accuracy = 0\n",
    "        test_batches = 0\n",
    "\n",
    "        with torch.no_grad():\n",
    "            for data_batch in data_test_loader:\n",
    "                data_test_x, data_test_y = data_batch\n",
    "                data_test_x = data_test_x.to(device)\n",
    "                data_test_y = data_test_y.to(device)\n",
    "\n",
    "                predict_test_y = model(data_test_x)\n",
    "                var_loss_test = loss(predict_test_y, data_test_y.reshape(data_test_y.shape[0], -1).float())\n",
    "                predict_test_y = (torch.sigmoid(predict_test_y) > var_threshold).float()\n",
    "\n",
    "                data_test_y = data_test_y.detach().cpu().numpy()\n",
    "                predict_test_y = predict_test_y.detach().cpu().numpy()\n",
    "                predict_test_y = predict_test_y.reshape(-1, data_test_y.shape[-1])\n",
    "                data_test_y = data_test_y.reshape(-1, data_test_y.shape[-1])\n",
    "                batch_accuracy = accuracy_score(data_test_y.astype(float), predict_test_y.astype(float))\n",
    "                total_test_loss += var_loss_test.item()\n",
    "                total_test_accuracy += batch_accuracy\n",
    "                test_batches += 1\n",
    "\n",
    "            \n",
    "        # Calculate average testing accuracy and loss\n",
    "        average_test_loss = total_test_loss / test_batches\n",
    "        average_test_accuracy = total_test_accuracy / test_batches\n",
    "        print(f\"Epoch {var_epoch}/{var_epochs} - Average Test Loss: {average_test_loss:.6f} - \"\n",
    "              f\"Average Test Accuracy: {average_test_accuracy:.6f}\")\n",
    "        print('---***---')\n",
    "        # Save the best model based on average test accuracy\n",
    "        if average_test_accuracy > var_best_accuracy:\n",
    "            var_best_accuracy = average_test_accuracy\n",
    "            var_best_weight = deepcopy(model.state_dict())\n",
    "            torch.save(var_best_weight, 'best_resnet_epoch=120_batchsize=32_envs=classroom_wifiband=2.4.pth')\n",
    "            print(f\"New best model saved with accuracy: {var_best_accuracy:.6f}\")\n",
    "            print('---------------------------***---------------------------')\n",
    "\n",
    "    return var_best_weight\n",
    "\n",
    "\n",
    "\n"
   ]
  },
  {
   "cell_type": "code",
   "execution_count": 4,
   "id": "ee2fa539",
   "metadata": {
    "execution": {
     "iopub.execute_input": "2025-01-18T14:42:35.630198Z",
     "iopub.status.busy": "2025-01-18T14:42:35.629871Z",
     "iopub.status.idle": "2025-01-18T14:42:35.676893Z",
     "shell.execute_reply": "2025-01-18T14:42:35.676286Z"
    },
    "papermill": {
     "duration": 0.051878,
     "end_time": "2025-01-18T14:42:35.678121",
     "exception": false,
     "start_time": "2025-01-18T14:42:35.626243",
     "status": "completed"
    },
    "tags": []
   },
   "outputs": [],
   "source": [
    "\"\"\"\n",
    "[file]          preprocess.py\n",
    "[description]   preprocess WiFi CSI data\n",
    "\"\"\"\n",
    "#\n",
    "##\n",
    "import os\n",
    "\n",
    "import numpy as np\n",
    "import scipy.io as scio\n",
    "\n",
    "#\n",
    "##\n",
    "def mat_to_amp(data_mat):\n",
    "    \"\"\"\n",
    "    [description]\n",
    "    : calculate amplitude of raw WiFi CSI data\n",
    "    [parameter]\n",
    "    : data_mat: dict, raw WiFi CSI data from *.mat files\n",
    "    [return]\n",
    "    : data_csi_amp: numpy array, CSI amplitude\n",
    "    \"\"\"\n",
    "    #\n",
    "    ## \n",
    "    var_length = data_mat[\"trace\"].shape[0]\n",
    "    #\n",
    "    data_csi_amp = [abs(data_mat[\"trace\"][var_t][0][0][0][-1]) for var_t in range(var_length)]\n",
    "    #\n",
    "    data_csi_amp = np.array(data_csi_amp, dtype = np.float32)\n",
    "    #\n",
    "    return data_csi_amp\n",
    "\n",
    "#\n",
    "##\n",
    "def extract_csi_amp(var_dir_mat, \n",
    "                    var_dir_amp):\n",
    "    \"\"\"\n",
    "    [description]\n",
    "    : read raw WiFi CSI files (*.mat), calcuate CSI amplitude, and save amplitude (*.npy)\n",
    "    [parameter]\n",
    "    : var_dir_mat: string, directory to read raw WiFi CSI files (*.mat)\n",
    "    : var_dir_amp: string, directory to save WiFi CSI amplitude (*.npy)\n",
    "    \"\"\"\n",
    "    #\n",
    "    ##\n",
    "    var_path_mat = os.listdir(var_dir_mat)\n",
    "    #\n",
    "    for var_c, var_path in enumerate(var_path_mat):\n",
    "        #\n",
    "        data_mat = scio.loadmat(os.path.join(var_dir_mat, var_path))\n",
    "        #\n",
    "        data_csi_amp = mat_to_amp(data_mat)\n",
    "        #\n",
    "        print(var_c, data_csi_amp.shape)\n",
    "        #\n",
    "        var_path_save = os.path.join(var_dir_amp, var_path.replace(\".mat\", \".npy\"))\n",
    "        #\n",
    "        with open(var_path_save, \"wb\") as var_file:\n",
    "            np.save(var_file, data_csi_amp)\n",
    "\n",
    "#\n",
    "##\n",
    "\n",
    "\n",
    "#\n"
   ]
  },
  {
   "cell_type": "code",
   "execution_count": 5,
   "id": "25b911a7",
   "metadata": {
    "execution": {
     "iopub.execute_input": "2025-01-18T14:42:35.684834Z",
     "iopub.status.busy": "2025-01-18T14:42:35.684592Z",
     "iopub.status.idle": "2025-01-18T14:42:36.389158Z",
     "shell.execute_reply": "2025-01-18T14:42:36.388255Z"
    },
    "papermill": {
     "duration": 0.709816,
     "end_time": "2025-01-18T14:42:36.390820",
     "exception": false,
     "start_time": "2025-01-18T14:42:35.681004",
     "status": "completed"
    },
    "tags": []
   },
   "outputs": [],
   "source": [
    "\"\"\"\n",
    "[file]          load_data.py\n",
    "[description]   load annotation file and CSI amplitude, and encode labels\n",
    "\"\"\"\n",
    "#\n",
    "##\n",
    "import os\n",
    "import numpy as np\n",
    "import pandas as pd\n",
    "#\n",
    "\n",
    "#\n",
    "##\n",
    "def load_data_y(var_path_data_y,\n",
    "                var_environment = None, \n",
    "                var_wifi_band = None, \n",
    "                var_num_users = None):\n",
    "    \"\"\"\n",
    "    [description]\n",
    "    : load annotation file (*.csv) as a pandas dataframe\n",
    "    : according to selected environment(s), WiFi band(s), and number(s) of users\n",
    "    [parameter]\n",
    "    : var_path_data_y: string, path of annotation file\n",
    "    : var_environment: list, selected environment(s), e.g., [\"classroom\"]\n",
    "    : var_wifi_band: list, selected WiFi band(s), e.g., [\"2.4\"]\n",
    "    : var_num_users: list, selected number(s) of users, e.g., [\"0\", \"1\", \"2\"]\n",
    "    [return]\n",
    "    : data_pd_y: pandas dataframe, labels of selected data\n",
    "    \"\"\"\n",
    "    #\n",
    "    ##\n",
    "    data_pd_y = pd.read_csv(var_path_data_y, dtype = str)\n",
    "    #\n",
    "    if var_environment is not None:\n",
    "        data_pd_y = data_pd_y[data_pd_y[\"environment\"].isin(var_environment)]\n",
    "    #\n",
    "    if var_wifi_band is not None:\n",
    "        data_pd_y = data_pd_y[data_pd_y[\"wifi_band\"].isin(var_wifi_band)]\n",
    "    #\n",
    "    if var_num_users is not None:\n",
    "        data_pd_y = data_pd_y[data_pd_y[\"number_of_users\"].isin(var_num_users)]\n",
    "    #\n",
    "    return data_pd_y\n",
    "\n",
    "#\n",
    "##\n",
    "def load_data_x(var_path_data_x, \n",
    "                var_label_list):\n",
    "    \"\"\"\n",
    "    [description]\n",
    "    : load CSI amplitude (*.npy)\n",
    "    : according to a label list of selected data\n",
    "    [parameter]\n",
    "    : var_path_data_x: string, directory of CSI amplitude files\n",
    "    : var_label_list: list, selected labels\n",
    "    [return]\n",
    "    : data_x: numpy array, CSI amplitude\n",
    "    \"\"\"\n",
    "    #\n",
    "    ##\n",
    "    var_path_list = [os.path.join(var_path_data_x, var_label + \".npy\") for var_label in var_label_list]\n",
    "    #\n",
    "    data_x = []\n",
    "    #\n",
    "    for var_path in var_path_list:\n",
    "        #\n",
    "        data_csi = np.load(var_path)\n",
    "        #\n",
    "        var_pad_length = preset[\"data\"][\"length\"] - data_csi.shape[0]\n",
    "        #\n",
    "        data_csi_pad = np.pad(data_csi, ((var_pad_length, 0), (0, 0), (0, 0), (0, 0)))\n",
    "        #\n",
    "        data_x.append(data_csi_pad)\n",
    "    #\n",
    "    data_x = np.array(data_x)\n",
    "    #\n",
    "    return data_x\n",
    "\n",
    "#\n",
    "##\n",
    "def encode_data_y(data_pd_y, \n",
    "                  var_task):\n",
    "    \"\"\"\n",
    "    [description]\n",
    "    : encode labels according to specific task\n",
    "    [parameter]\n",
    "    : data_pd_y: pandas dataframe, labels of different tasks\n",
    "    : var_task: string, indicate task\n",
    "    [return]\n",
    "    : data_y: numpy array, label encoding of task\n",
    "    \"\"\"\n",
    "    #\n",
    "    ##\n",
    "    if var_task == \"identity\":\n",
    "        #\n",
    "        data_y = encode_identity(data_pd_y)\n",
    "    #\n",
    "    elif var_task == \"activity\":\n",
    "        #\n",
    "        data_y = encode_activity(data_pd_y, preset[\"encoding\"][\"activity\"])\n",
    "    #\n",
    "    elif var_task == \"location\":\n",
    "        #\n",
    "        data_y = encode_location(data_pd_y, preset[\"encoding\"][\"location\"])\n",
    "    #\n",
    "    return data_y\n",
    "\n",
    "#\n",
    "##\n",
    "def encode_identity(data_pd_y):\n",
    "    \"\"\"\n",
    "    [description]\n",
    "    : encode identity labels in a pandas dataframe\n",
    "    [parameter]\n",
    "    : data_pd_y: pandas dataframe, labels of different tasks\n",
    "    [return]\n",
    "    : data_identity_onehot_y: numpy array, onehot encoding for identity labels\n",
    "    \"\"\"\n",
    "    #\n",
    "    ##\n",
    "    data_location_pd_y = data_pd_y[[\"user_1_location\", \"user_2_location\", \n",
    "                                    \"user_3_location\", \"user_4_location\", \n",
    "                                    \"user_5_location\", \"user_6_location\"]]\n",
    "    # \n",
    "    data_identity_y = data_location_pd_y.to_numpy(copy = True).astype(str)\n",
    "    #\n",
    "    data_identity_y[data_identity_y != \"nan\"] = 1\n",
    "    data_identity_y[data_identity_y == \"nan\"] = 0\n",
    "    #\n",
    "    data_identity_onehot_y = data_identity_y.astype(\"int8\")\n",
    "    #\n",
    "    return data_identity_onehot_y\n",
    "\n",
    "#\n",
    "##\n",
    "def encode_activity(data_pd_y, \n",
    "                    var_encoding):\n",
    "    \"\"\"\n",
    "    [description]\n",
    "    : encode activity labels in a pandas dataframe\n",
    "    [parameter]\n",
    "    : data_pd_y: pandas dataframe, labels of different tasks\n",
    "    : var_encoding: dict, encoding of different activities\n",
    "    [return]\n",
    "    : data_activity_onehot_y: numpy array, onehot encoding for activity labels\n",
    "    \"\"\"\n",
    "    #\n",
    "    ##\n",
    "    data_activity_pd_y = data_pd_y[[\"user_1_activity\", \"user_2_activity\", \n",
    "                                    \"user_3_activity\", \"user_4_activity\", \n",
    "                                    \"user_5_activity\", \"user_6_activity\"]]\n",
    "    #\n",
    "    data_activity_y = data_activity_pd_y.to_numpy(copy = True).astype(str)\n",
    "    #\n",
    "    data_activity_onehot_y = np.array([[var_encoding[var_y] for var_y in var_sample] for var_sample in data_activity_y])\n",
    "    #\n",
    "    return data_activity_onehot_y\n",
    "\n",
    "#\n",
    "##\n",
    "def encode_location(data_pd_y, \n",
    "                    var_encoding):\n",
    "    \"\"\"\n",
    "    [description]\n",
    "    : encode location labels in a pandas dataframe\n",
    "    [parameter]\n",
    "    : data_pd_y: pandas dataframe, labels of different tasks\n",
    "    : var_encoding: dict, encoding of different locations\n",
    "    [return]\n",
    "    : data_location_onehot_y: numpy array, onehot encoding for location labels\n",
    "    \"\"\"\n",
    "    #\n",
    "    ##\n",
    "    data_location_pd_y = data_pd_y[[\"user_1_location\", \"user_2_location\", \n",
    "                                    \"user_3_location\", \"user_4_location\", \n",
    "                                    \"user_5_location\", \"user_6_location\"]]\n",
    "    #\n",
    "    data_location_y = data_location_pd_y.to_numpy(copy = True).astype(str)\n",
    "    #\n",
    "    data_location_onehot_y = np.array([[var_encoding[var_y] for var_y in var_sample] for var_sample in data_location_y])\n",
    "    #\n",
    "    return data_location_onehot_y\n",
    "\n",
    "#\n",
    "##\n",
    "def test_load_data_y():\n",
    "    \"\"\"\n",
    "    [description]\n",
    "    : test load_data_y() function\n",
    "    \"\"\"\n",
    "    #\n",
    "    ##\n",
    "    print(load_data_y(preset[\"path\"][\"data_y\"], \n",
    "                      var_environment = [\"classroom\"]).describe())\n",
    "    #\n",
    "    print(load_data_y(preset[\"path\"][\"data_y\"], \n",
    "                      var_environment = [\"meeting_room\"], \n",
    "                      var_wifi_band = [\"2.4\"]).describe())\n",
    "    #\n",
    "    print(load_data_y(preset[\"path\"][\"data_y\"], \n",
    "                      var_environment = [\"meeting_room\"], \n",
    "                      var_wifi_band = [\"2.4\"], \n",
    "                      var_num_users = [\"1\", \"2\", \"3\"]).describe())\n",
    "\n",
    "#\n",
    "##\n",
    "def test_load_data_x():\n",
    "    \"\"\"\n",
    "    [description]\n",
    "    : test load_data_x() function\n",
    "    \"\"\"\n",
    "    #\n",
    "    ##\n",
    "    data_pd_y = load_data_y(preset[\"path\"][\"data_y\"],\n",
    "                            var_environment = [\"meeting_room\"], \n",
    "                            var_wifi_band = [\"2.4\"], \n",
    "                            var_num_users = None)\n",
    "    #\n",
    "    var_label_list = data_pd_y[\"label\"].to_list()\n",
    "    #\n",
    "    data_x = load_data_x(preset[\"path\"][\"data_x\"], var_label_list)\n",
    "    #\n",
    "    print(data_x.shape)\n",
    "\n",
    "#\n",
    "##\n",
    "def test_encode_identity():\n",
    "    \"\"\"\n",
    "    [description]\n",
    "    : test encode_identity() function\n",
    "    \"\"\"\n",
    "    #\n",
    "    ##\n",
    "    data_pd_y = pd.read_csv(preset[\"path\"][\"data_y\"], dtype = str)\n",
    "    #\n",
    "    data_identity_onehot_y = encode_identity(data_pd_y)\n",
    "    #\n",
    "    print(data_identity_onehot_y.shape)\n",
    "    #\n",
    "    print(data_identity_onehot_y[2000])\n",
    "\n",
    "#\n",
    "##\n",
    "def test_encode_activity():\n",
    "    \"\"\"\n",
    "    [description]\n",
    "    : test encode_activity() function\n",
    "    \"\"\"\n",
    "    #\n",
    "    ##\n",
    "    data_pd_y = pd.read_csv(preset[\"path\"][\"data_y\"], dtype = str)\n",
    "    #\n",
    "    data_activity_onehot_y = encode_activity(data_pd_y, preset[\"encoding\"][\"activity\"])\n",
    "    #\n",
    "    print(data_activity_onehot_y.shape)\n",
    "    #\n",
    "    print(data_activity_onehot_y[1560])\n",
    "\n",
    "#\n",
    "##\n",
    "def test_encode_location():\n",
    "    \"\"\"\n",
    "    [description]\n",
    "    : test encode_location() function\n",
    "    \"\"\"\n",
    "    #\n",
    "    ##\n",
    "    data_pd_y = pd.read_csv(preset[\"path\"][\"data_y\"], dtype = str)\n",
    "    #\n",
    "    data_location_onehot_y = encode_location(data_pd_y, preset[\"encoding\"][\"location\"])\n",
    "    #\n",
    "    print(data_location_onehot_y.shape)\n",
    "    #\n",
    "    print(data_location_onehot_y[1560])\n",
    "\n"
   ]
  },
  {
   "cell_type": "code",
   "execution_count": 6,
   "id": "db966e7e",
   "metadata": {
    "_cell_guid": "01510161-47b0-4a61-abe2-679533b9e5e5",
    "_uuid": "39c5fb7b-cc9c-46a8-b98c-be21120c0f13",
    "collapsed": false,
    "execution": {
     "iopub.execute_input": "2025-01-18T14:42:36.398363Z",
     "iopub.status.busy": "2025-01-18T14:42:36.397992Z",
     "iopub.status.idle": "2025-01-18T14:42:39.514984Z",
     "shell.execute_reply": "2025-01-18T14:42:39.514284Z"
    },
    "jupyter": {
     "outputs_hidden": false
    },
    "papermill": {
     "duration": 3.12231,
     "end_time": "2025-01-18T14:42:39.516493",
     "exception": false,
     "start_time": "2025-01-18T14:42:36.394183",
     "status": "completed"
    },
    "tags": []
   },
   "outputs": [],
   "source": [
    "\"\"\"\n",
    "[file]          run.py\n",
    "[description]   run WiFi-based models\n",
    "\"\"\"\n",
    "#\n",
    "##\n",
    "\n",
    "from torch.utils.data import DataLoader\n",
    "from torchvision import models\n",
    "import json\n",
    "\n",
    "\n",
    "from sklearn.model_selection import train_test_split\n",
    "import time\n",
    "import torch\n",
    "import numpy as np\n",
    "#\n",
    "from torch.utils.data import TensorDataset\n",
    "from ptflops import get_model_complexity_info\n",
    "from sklearn.metrics import classification_report, accuracy_score\n",
    "#\n",
    "\n",
    "from tqdm import tqdm\n",
    "\n",
    "#\n",
    "\n",
    "\n",
    "\n",
    "#\n",
    "##\n",
    "\n",
    "\n",
    "\n",
    "def run_resnet(data_train_x,\n",
    "             data_train_y,\n",
    "             data_test_x,\n",
    "             data_test_y,\n",
    "             var_repeat=10):\n",
    "    \"\"\"\n",
    "    [description]\n",
    "    : run model (ResNet18 instead of THAT) for WiFi-based classification\n",
    "\n",
    "    [parameter]\n",
    "    : data_train_x: numpy array, CSI amplitude to train model  -> shape: (N, T, F)\n",
    "    : data_train_y: numpy array, labels to train model        -> shape: (N, #classes) (یا (N,) در صورت تک‌خروجی)\n",
    "    : data_test_x:  numpy array, CSI amplitude to test model  -> shape: (M, T, F)\n",
    "    : data_test_y:  numpy array, labels to test model         -> shape: (M, #classes)\n",
    "    : var_repeat:   int, number of repeated experiments\n",
    "\n",
    "    [return]\n",
    "    : result: dict, results of experiments\n",
    "    \"\"\"\n",
    "\n",
    "    device = torch.device(\"cuda\" if torch.cuda.is_available() else \"cpu\")\n",
    "\n",
    "    # ================================ Preprocess ================================\n",
    "    # reshape data for ResNet: (batch, 1, time, feature)\n",
    "    data_train_x = data_train_x.reshape(data_train_x.shape[0], 1, data_train_x.shape[1], data_train_x.shape[2]*data_train_x.shape[3]*data_train_x.shape[4])\n",
    "    data_test_x  = data_test_x.reshape(data_test_x.shape[0], 1, data_test_x.shape[1], data_test_x.shape[2]*data_test_x.shape[3]*data_test_x.shape[4])\n",
    "\n",
    "    # ساخت دیتاست\n",
    "    data_train_set = TensorDataset(torch.from_numpy(data_train_x).float(),\n",
    "                                   torch.from_numpy(data_train_y).float())\n",
    "    data_test_set  = TensorDataset(torch.from_numpy(data_test_x).float(),\n",
    "                                   torch.from_numpy(data_test_y).float())\n",
    "\n",
    "    # مشخص کردن shape ورودی و خروجی\n",
    "    # در اینجا var_x_shape باید به شکل (1, time, feature) باشد (بدون درنظرگرفتن batch)\n",
    "    # و var_y_shape صرفاً مشخص‌کننده‌ی ابعاد خروجی است:\n",
    "    var_x_shape = data_train_x[0].shape  # (1, time, feature)\n",
    "    var_y_shape = data_train_y[0].reshape(-1).shape  # (num_of_classes, )\n",
    "\n",
    "    # ================================ تعریف مدل ResNet18 ================================\n",
    "    # 1) ساخت مدل ResNet18\n",
    "    model_resnet = models.resnet18(pretrained=False)\n",
    "\n",
    "    # 2) تغییر لایه‌ی ورودی (conv1) تا بجای 3 کانال، 1 کانال دریافت کند\n",
    "    model_resnet.conv1 = torch.nn.Conv2d(\n",
    "        in_channels=1,       # تغییر این قسمت\n",
    "        out_channels=64,\n",
    "        kernel_size=7,\n",
    "        stride=2,\n",
    "        padding=3,\n",
    "        bias=False\n",
    "    )\n",
    "\n",
    "    # 3) تغییر خروجی نهایی (fc) تا به تعداد کلاس‌های ما باشد:\n",
    "    in_features_fc = model_resnet.fc.in_features  # به طور پیش‌فرض 512\n",
    "    out_features_fc = var_y_shape[-1]             # مثلا تعداد کلاس‌ها\n",
    "    model_resnet.fc = torch.nn.Linear(in_features_fc, out_features_fc)\n",
    "\n",
    "    # =========================== محاسبه پارامترها و پیچیدگی (FLOPs) ===========================\n",
    "    # توجه: برای ptflops باید ورودی به شکل (channels, H, W) باشد.\n",
    "    # ما داریم (1, time, feature).\n",
    "    var_macs, var_params = get_model_complexity_info(\n",
    "        model_resnet,\n",
    "        var_x_shape,  # -> (1, time, feature)\n",
    "        as_strings=False\n",
    "    )\n",
    "\n",
    "    print(\"Parameters:\", var_params, \"- FLOPs:\", var_macs * 2)\n",
    "\n",
    "    # =========================== Train & Evaluate ===========================\n",
    "    result = {}\n",
    "    result_accuracy = []\n",
    "    result_time_train = []\n",
    "    result_time_test = []\n",
    "\n",
    "    for var_r in range(var_repeat):\n",
    "        print(\"Repeat\", var_r)\n",
    "\n",
    "        # برای تکرارپذیری\n",
    "        torch.random.manual_seed(var_r + 39)\n",
    "\n",
    "        # کپی تازه از مدل برای هر تکرار\n",
    "        model_resnet_loop = models.resnet18(pretrained=False)\n",
    "        model_resnet_loop.conv1 = torch.nn.Conv2d(\n",
    "            in_channels=1,\n",
    "            out_channels=64,\n",
    "            kernel_size=7,\n",
    "            stride=2,\n",
    "            padding=3,\n",
    "            bias=False\n",
    "        )\n",
    "        model_resnet_loop.fc = torch.nn.Linear(in_features_fc, out_features_fc)\n",
    "\n",
    "        # انتقال به GPU/CPU\n",
    "        model_resnet_loop = model_resnet_loop.to(device)\n",
    "\n",
    "        # تعریف بهینه‌ساز\n",
    "        optimizer = torch.optim.Adam(\n",
    "            model_resnet_loop.parameters(),\n",
    "            lr=preset[\"nn\"][\"lr\"],\n",
    "            weight_decay=0\n",
    "        )\n",
    "\n",
    "        # اگر مسئله‌ی شما Multi-Label باشد از BCEWithLogitsLoss استفاده می‌شود\n",
    "        # اگر Multi-Class (با softmax) باشد از CrossEntropyLoss استفاده کنید.\n",
    "        loss_func = torch.nn.BCEWithLogitsLoss(\n",
    "            pos_weight=torch.tensor([4] * out_features_fc).to(device)\n",
    "        )\n",
    "\n",
    "        var_time_0 = time.time()\n",
    "\n",
    "        # -------------------------------- Train --------------------------------\n",
    "        var_best_weight = train(\n",
    "            model=model_resnet_loop,\n",
    "            optimizer=optimizer,\n",
    "            loss=loss_func,\n",
    "            data_train_set=data_train_set,\n",
    "            data_test_set=data_test_set,\n",
    "            var_threshold=preset[\"nn\"][\"threshold\"],\n",
    "            var_batch_size=preset[\"nn\"][\"batch_size\"],\n",
    "            var_epochs=preset[\"nn\"][\"epoch\"],\n",
    "            device=device\n",
    "        )\n",
    "\n",
    "        var_time_1 = time.time()\n",
    "\n",
    "        # -------------------------------- Test ---------------------------------\n",
    "        model_resnet_loop.load_state_dict(var_best_weight)\n",
    "\n",
    "        # Evaluate using DataLoader\n",
    "        model_resnet_loop.eval()  # Set the model to evaluation mode\n",
    "        with torch.no_grad():\n",
    "            predict_test_y_list = []\n",
    "            data_test_y_list = []\n",
    "\n",
    "            for data_batch in DataLoader(data_test_set, batch_size=preset[\"nn\"][\"batch_size\"], shuffle=False):\n",
    "                data_test_x, data_test_y = data_batch\n",
    "                data_test_x = data_test_x.to(device)\n",
    "                data_test_y = data_test_y.to(device)\n",
    "\n",
    "                predict_test_y = model_resnet_loop(data_test_x)\n",
    "                predict_test_y = torch.sigmoid(predict_test_y)  # Apply sigmoid for BCEWithLogitsLoss\n",
    "                predict_test_y_list.append(predict_test_y.cpu().numpy())\n",
    "                data_test_y_list.append(data_test_y.cpu().numpy())\n",
    "\n",
    "            # Concatenate results\n",
    "            predict_test_y = np.vstack(predict_test_y_list)\n",
    "            data_test_y = np.vstack(data_test_y_list)\n",
    "\n",
    "            # Apply thresholding\n",
    "            predict_test_y = (predict_test_y > preset[\"nn\"][\"threshold\"]).astype(float)\n",
    "\n",
    "        var_time_2 = time.time()\n",
    "\n",
    "        # ------------------------------- Evaluate -------------------------------\n",
    "        data_test_y_c = data_test_y.reshape(-1, data_test_y.shape[-1])\n",
    "        predict_test_y_c = predict_test_y.reshape(-1, data_test_y.shape[-1])\n",
    "\n",
    "        # Accuracy\n",
    "        result_acc = accuracy_score(\n",
    "            data_test_y_c.astype(int),\n",
    "            predict_test_y_c.astype(int)\n",
    "        )\n",
    "\n",
    "        # classification report\n",
    "        result_dict = classification_report(\n",
    "            data_test_y_c,\n",
    "            predict_test_y_c,\n",
    "            digits=6,\n",
    "            zero_division=0,\n",
    "            output_dict=True\n",
    "        )\n",
    "\n",
    "        result[f\"repeat_{var_r}\"] = result_dict\n",
    "\n",
    "        result_accuracy.append(result_acc)\n",
    "        result_time_train.append(var_time_1 - var_time_0)\n",
    "        result_time_test.append(var_time_2 - var_time_1)\n",
    "\n",
    "        print(\"repeat_\", var_r, result_accuracy)\n",
    "        print(result)\n",
    "\n",
    "    # جمع‌بندی نتایج تکرارها\n",
    "    result[\"accuracy\"] = {\"avg\": np.mean(result_accuracy), \"std\": np.std(result_accuracy)}\n",
    "    result[\"time_train\"] = {\"avg\": np.mean(result_time_train), \"std\": np.std(result_time_train)}\n",
    "    result[\"time_test\"] = {\"avg\": np.mean(result_time_test), \"std\": np.std(result_time_test)}\n",
    "    result[\"complexity\"] = {\"parameter\": var_params, \"flops\": var_macs * 2}\n",
    "\n",
    "    return result\n",
    "\n",
    "#\n",
    "##\n",
    "def run():\n",
    "    \"\"\"\n",
    "    [description]\n",
    "    : run WiFi-based models\n",
    "    \"\"\"\n",
    "    #\n",
    "    ## parse arguments from input\n",
    "\n",
    "    #\n",
    "    var_task = \"location\"\n",
    "    var_model = \"resnet\"\n",
    "    var_repeat = 1\n",
    "    #\n",
    "    ## load annotation file as labels\n",
    "    data_pd_y = load_data_y(preset[\"path\"][\"data_y\"],\n",
    "                            var_environment = preset[\"data\"][\"environment\"], \n",
    "                            var_wifi_band = preset[\"data\"][\"wifi_band\"], \n",
    "                            var_num_users = preset[\"data\"][\"num_users\"])\n",
    "    #\n",
    "    var_label_list = data_pd_y[\"label\"].to_list()\n",
    "    #\n",
    "    ## load CSI amplitude\n",
    "    data_x = load_data_x(preset[\"path\"][\"data_x\"], var_label_list)\n",
    "    #\n",
    "    ## encode labels\n",
    "    data_y = encode_data_y(data_pd_y, var_task)\n",
    "    #\n",
    "    ## a training set (80%) and a test set (20%)\n",
    "    data_train_x, data_test_x, data_train_y, data_test_y = train_test_split(data_x, data_y, \n",
    "                                                                            test_size = 0.2, \n",
    "                                                                            shuffle = True, \n",
    "                                                                            random_state = 39)\n",
    "    print(var_model)\n",
    "    #\n",
    "    ## select a WiFi-based model\n",
    "    # if var_model == \"ST-RF\": run_model = run_strf\n",
    "    #\n",
    "    # if var_model == \"MLP\": run_model = run_mlp\n",
    "    # if var_model == \"swin\": run_model = run_mlp\n",
    "    #\n",
    "    # if var_model == \"LSTM\": run_model = run_lstm\n",
    "    # #\n",
    "    # elif var_model == \"CNN-1D\": run_model = run_cnn_1d\n",
    "    # #\n",
    "    # if var_model == \"CNN-2D\": run_model = run_cnn_2d\n",
    "    ##\n",
    "    if var_model == \"resnet\":\n",
    "        print(1)\n",
    "        run_model = run_resnet\n",
    "    # #\n",
    "    # elif var_model == \"CLSTM\": run_model = run_cnn_lstm\n",
    "    # #\n",
    "    # elif var_model == \"ABLSTM\": run_model = run_ablstm\n",
    "    # #\n",
    "    # elif var_model == \"THAT\": run_model = run_that\n",
    "    #\n",
    "    ## run WiFi-based model\n",
    "    result = run_model(data_train_x, data_train_y, \n",
    "                       data_test_x, data_test_y, var_repeat)\n",
    "    #\n",
    "    ##\n",
    "    result[\"model\"] = var_model\n",
    "    result[\"task\"] = var_task\n",
    "    result[\"data\"] = preset[\"data\"]\n",
    "    result[\"nn\"] = preset[\"nn\"]\n",
    "    #\n",
    "    print(result)\n",
    "    #\n",
    "    ## save results\n",
    "    var_file = open(preset[\"path\"][\"save\"], 'w')\n",
    "    json.dump(result, var_file, indent = 4)\n",
    "\n",
    "#\n"
   ]
  },
  {
   "cell_type": "code",
   "execution_count": 7,
   "id": "851d3b65",
   "metadata": {
    "execution": {
     "iopub.execute_input": "2025-01-18T14:42:39.523418Z",
     "iopub.status.busy": "2025-01-18T14:42:39.523181Z",
     "iopub.status.idle": "2025-01-18T16:04:41.965945Z",
     "shell.execute_reply": "2025-01-18T16:04:41.964979Z"
    },
    "papermill": {
     "duration": 4922.44773,
     "end_time": "2025-01-18T16:04:41.967478",
     "exception": false,
     "start_time": "2025-01-18T14:42:39.519748",
     "status": "completed"
    },
    "tags": []
   },
   "outputs": [
    {
     "name": "stdout",
     "output_type": "stream",
     "text": [
      "resnet\n",
      "1\n"
     ]
    },
    {
     "name": "stderr",
     "output_type": "stream",
     "text": [
      "/usr/local/lib/python3.10/dist-packages/torchvision/models/_utils.py:208: UserWarning: The parameter 'pretrained' is deprecated since 0.13 and may be removed in the future, please use 'weights' instead.\n",
      "  warnings.warn(\n",
      "/usr/local/lib/python3.10/dist-packages/torchvision/models/_utils.py:223: UserWarning: Arguments other than a weight enum or `None` for 'weights' are deprecated since 0.13 and may be removed in the future. The current behavior is equivalent to passing `weights=None`.\n",
      "  warnings.warn(msg)\n"
     ]
    },
    {
     "name": "stdout",
     "output_type": "stream",
     "text": [
      "ResNet(\n",
      "  11.19 M, 100.000% Params, 28.77 GMac, 99.823% MACs, \n",
      "  (conv1): Conv2d(3.14 k, 0.028% Params, 635.04 MMac, 2.203% MACs, 1, 64, kernel_size=(7, 7), stride=(2, 2), padding=(3, 3), bias=False)\n",
      "  (bn1): BatchNorm2d(128, 0.001% Params, 25.92 MMac, 0.090% MACs, 64, eps=1e-05, momentum=0.1, affine=True, track_running_stats=True)\n",
      "  (relu): ReLU(0, 0.000% Params, 12.96 MMac, 0.045% MACs, inplace=True)\n",
      "  (maxpool): MaxPool2d(0, 0.000% Params, 12.96 MMac, 0.045% MACs, kernel_size=3, stride=2, padding=1, dilation=1, ceil_mode=False)\n",
      "  (layer1): Sequential(\n",
      "    147.97 k, 1.323% Params, 7.56 GMac, 26.228% MACs, \n",
      "    (0): BasicBlock(\n",
      "      73.98 k, 0.661% Params, 3.78 GMac, 13.114% MACs, \n",
      "      (conv1): Conv2d(36.86 k, 0.330% Params, 1.88 GMac, 6.523% MACs, 64, 64, kernel_size=(3, 3), stride=(1, 1), padding=(1, 1), bias=False)\n",
      "      (bn1): BatchNorm2d(128, 0.001% Params, 6.53 MMac, 0.023% MACs, 64, eps=1e-05, momentum=0.1, affine=True, track_running_stats=True)\n",
      "      (relu): ReLU(0, 0.000% Params, 6.53 MMac, 0.023% MACs, inplace=True)\n",
      "      (conv2): Conv2d(36.86 k, 0.330% Params, 1.88 GMac, 6.523% MACs, 64, 64, kernel_size=(3, 3), stride=(1, 1), padding=(1, 1), bias=False)\n",
      "      (bn2): BatchNorm2d(128, 0.001% Params, 6.53 MMac, 0.023% MACs, 64, eps=1e-05, momentum=0.1, affine=True, track_running_stats=True)\n",
      "    )\n",
      "    (1): BasicBlock(\n",
      "      73.98 k, 0.661% Params, 3.78 GMac, 13.114% MACs, \n",
      "      (conv1): Conv2d(36.86 k, 0.330% Params, 1.88 GMac, 6.523% MACs, 64, 64, kernel_size=(3, 3), stride=(1, 1), padding=(1, 1), bias=False)\n",
      "      (bn1): BatchNorm2d(128, 0.001% Params, 6.53 MMac, 0.023% MACs, 64, eps=1e-05, momentum=0.1, affine=True, track_running_stats=True)\n",
      "      (relu): ReLU(0, 0.000% Params, 6.53 MMac, 0.023% MACs, inplace=True)\n",
      "      (conv2): Conv2d(36.86 k, 0.330% Params, 1.88 GMac, 6.523% MACs, 64, 64, kernel_size=(3, 3), stride=(1, 1), padding=(1, 1), bias=False)\n",
      "      (bn2): BatchNorm2d(128, 0.001% Params, 6.53 MMac, 0.023% MACs, 64, eps=1e-05, momentum=0.1, affine=True, track_running_stats=True)\n",
      "    )\n",
      "  )\n",
      "  (layer2): Sequential(\n",
      "    525.57 k, 4.699% Params, 6.71 GMac, 23.272% MACs, \n",
      "    (0): BasicBlock(\n",
      "      230.14 k, 2.057% Params, 2.94 GMac, 10.192% MACs, \n",
      "      (conv1): Conv2d(73.73 k, 0.659% Params, 940.03 MMac, 3.262% MACs, 64, 128, kernel_size=(3, 3), stride=(2, 2), padding=(1, 1), bias=False)\n",
      "      (bn1): BatchNorm2d(256, 0.002% Params, 3.26 MMac, 0.011% MACs, 128, eps=1e-05, momentum=0.1, affine=True, track_running_stats=True)\n",
      "      (relu): ReLU(0, 0.000% Params, 3.26 MMac, 0.011% MACs, inplace=True)\n",
      "      (conv2): Conv2d(147.46 k, 1.318% Params, 1.88 GMac, 6.523% MACs, 128, 128, kernel_size=(3, 3), stride=(1, 1), padding=(1, 1), bias=False)\n",
      "      (bn2): BatchNorm2d(256, 0.002% Params, 3.26 MMac, 0.011% MACs, 128, eps=1e-05, momentum=0.1, affine=True, track_running_stats=True)\n",
      "      (downsample): Sequential(\n",
      "        8.45 k, 0.076% Params, 107.71 MMac, 0.374% MACs, \n",
      "        (0): Conv2d(8.19 k, 0.073% Params, 104.45 MMac, 0.362% MACs, 64, 128, kernel_size=(1, 1), stride=(2, 2), bias=False)\n",
      "        (1): BatchNorm2d(256, 0.002% Params, 3.26 MMac, 0.011% MACs, 128, eps=1e-05, momentum=0.1, affine=True, track_running_stats=True)\n",
      "      )\n",
      "    )\n",
      "    (1): BasicBlock(\n",
      "      295.42 k, 2.641% Params, 3.77 GMac, 13.080% MACs, \n",
      "      (conv1): Conv2d(147.46 k, 1.318% Params, 1.88 GMac, 6.523% MACs, 128, 128, kernel_size=(3, 3), stride=(1, 1), padding=(1, 1), bias=False)\n",
      "      (bn1): BatchNorm2d(256, 0.002% Params, 3.26 MMac, 0.011% MACs, 128, eps=1e-05, momentum=0.1, affine=True, track_running_stats=True)\n",
      "      (relu): ReLU(0, 0.000% Params, 3.26 MMac, 0.011% MACs, inplace=True)\n",
      "      (conv2): Conv2d(147.46 k, 1.318% Params, 1.88 GMac, 6.523% MACs, 128, 128, kernel_size=(3, 3), stride=(1, 1), padding=(1, 1), bias=False)\n",
      "      (bn2): BatchNorm2d(256, 0.002% Params, 3.26 MMac, 0.011% MACs, 128, eps=1e-05, momentum=0.1, affine=True, track_running_stats=True)\n",
      "    )\n",
      "  )\n",
      "  (layer3): Sequential(\n",
      "    2.1 M, 18.772% Params, 6.71 GMac, 23.295% MACs, \n",
      "    (0): BasicBlock(\n",
      "      919.04 k, 8.216% Params, 2.94 GMac, 10.197% MACs, \n",
      "      (conv1): Conv2d(294.91 k, 2.637% Params, 942.54 MMac, 3.270% MACs, 128, 256, kernel_size=(3, 3), stride=(2, 2), padding=(1, 1), bias=False)\n",
      "      (bn1): BatchNorm2d(512, 0.005% Params, 1.64 MMac, 0.006% MACs, 256, eps=1e-05, momentum=0.1, affine=True, track_running_stats=True)\n",
      "      (relu): ReLU(0, 0.000% Params, 1.64 MMac, 0.006% MACs, inplace=True)\n",
      "      (conv2): Conv2d(589.82 k, 5.273% Params, 1.89 GMac, 6.540% MACs, 256, 256, kernel_size=(3, 3), stride=(1, 1), padding=(1, 1), bias=False)\n",
      "      (bn2): BatchNorm2d(512, 0.005% Params, 1.64 MMac, 0.006% MACs, 256, eps=1e-05, momentum=0.1, affine=True, track_running_stats=True)\n",
      "      (downsample): Sequential(\n",
      "        33.28 k, 0.298% Params, 106.36 MMac, 0.369% MACs, \n",
      "        (0): Conv2d(32.77 k, 0.293% Params, 104.73 MMac, 0.363% MACs, 128, 256, kernel_size=(1, 1), stride=(2, 2), bias=False)\n",
      "        (1): BatchNorm2d(512, 0.005% Params, 1.64 MMac, 0.006% MACs, 256, eps=1e-05, momentum=0.1, affine=True, track_running_stats=True)\n",
      "      )\n",
      "    )\n",
      "    (1): BasicBlock(\n",
      "      1.18 M, 10.555% Params, 3.78 GMac, 13.098% MACs, \n",
      "      (conv1): Conv2d(589.82 k, 5.273% Params, 1.89 GMac, 6.540% MACs, 256, 256, kernel_size=(3, 3), stride=(1, 1), padding=(1, 1), bias=False)\n",
      "      (bn1): BatchNorm2d(512, 0.005% Params, 1.64 MMac, 0.006% MACs, 256, eps=1e-05, momentum=0.1, affine=True, track_running_stats=True)\n",
      "      (relu): ReLU(0, 0.000% Params, 1.64 MMac, 0.006% MACs, inplace=True)\n",
      "      (conv2): Conv2d(589.82 k, 5.273% Params, 1.89 GMac, 6.540% MACs, 256, 256, kernel_size=(3, 3), stride=(1, 1), padding=(1, 1), bias=False)\n",
      "      (bn2): BatchNorm2d(512, 0.005% Params, 1.64 MMac, 0.006% MACs, 256, eps=1e-05, momentum=0.1, affine=True, track_running_stats=True)\n",
      "    )\n",
      "  )\n",
      "  (layer4): Sequential(\n",
      "    8.39 M, 75.040% Params, 7.1 GMac, 24.644% MACs, \n",
      "    (0): BasicBlock(\n",
      "      3.67 M, 32.838% Params, 3.11 GMac, 10.784% MACs, \n",
      "      (conv1): Conv2d(1.18 M, 10.546% Params, 997.98 MMac, 3.463% MACs, 256, 512, kernel_size=(3, 3), stride=(2, 2), padding=(1, 1), bias=False)\n",
      "      (bn1): BatchNorm2d(1.02 k, 0.009% Params, 866.3 KMac, 0.003% MACs, 512, eps=1e-05, momentum=0.1, affine=True, track_running_stats=True)\n",
      "      (relu): ReLU(0, 0.000% Params, 866.3 KMac, 0.003% MACs, inplace=True)\n",
      "      (conv2): Conv2d(2.36 M, 21.092% Params, 2.0 GMac, 6.925% MACs, 512, 512, kernel_size=(3, 3), stride=(1, 1), padding=(1, 1), bias=False)\n",
      "      (bn2): BatchNorm2d(1.02 k, 0.009% Params, 866.3 KMac, 0.003% MACs, 512, eps=1e-05, momentum=0.1, affine=True, track_running_stats=True)\n",
      "      (downsample): Sequential(\n",
      "        132.1 k, 1.181% Params, 111.75 MMac, 0.388% MACs, \n",
      "        (0): Conv2d(131.07 k, 1.172% Params, 110.89 MMac, 0.385% MACs, 256, 512, kernel_size=(1, 1), stride=(2, 2), bias=False)\n",
      "        (1): BatchNorm2d(1.02 k, 0.009% Params, 866.3 KMac, 0.003% MACs, 512, eps=1e-05, momentum=0.1, affine=True, track_running_stats=True)\n",
      "      )\n",
      "    )\n",
      "    (1): BasicBlock(\n",
      "      4.72 M, 42.203% Params, 3.99 GMac, 13.859% MACs, \n",
      "      (conv1): Conv2d(2.36 M, 21.092% Params, 2.0 GMac, 6.925% MACs, 512, 512, kernel_size=(3, 3), stride=(1, 1), padding=(1, 1), bias=False)\n",
      "      (bn1): BatchNorm2d(1.02 k, 0.009% Params, 866.3 KMac, 0.003% MACs, 512, eps=1e-05, momentum=0.1, affine=True, track_running_stats=True)\n",
      "      (relu): ReLU(0, 0.000% Params, 866.3 KMac, 0.003% MACs, inplace=True)\n",
      "      (conv2): Conv2d(2.36 M, 21.092% Params, 2.0 GMac, 6.925% MACs, 512, 512, kernel_size=(3, 3), stride=(1, 1), padding=(1, 1), bias=False)\n",
      "      (bn2): BatchNorm2d(1.02 k, 0.009% Params, 866.3 KMac, 0.003% MACs, 512, eps=1e-05, momentum=0.1, affine=True, track_running_stats=True)\n",
      "    )\n",
      "  )\n",
      "  (avgpool): AdaptiveAvgPool2d(0, 0.000% Params, 433.15 KMac, 0.002% MACs, output_size=(1, 1))\n",
      "  (fc): Linear(15.39 k, 0.138% Params, 15.39 KMac, 0.000% MACs, in_features=512, out_features=30, bias=True)\n",
      ")\n",
      "Parameters: 11185630 - FLOPs: 57643987516\n",
      "Repeat 0\n"
     ]
    },
    {
     "name": "stderr",
     "output_type": "stream",
     "text": [
      "  0%|          | 0/120 [00:00<?, ?it/s]"
     ]
    },
    {
     "name": "stdout",
     "output_type": "stream",
     "text": [
      "Epoch 0/120 - Average Training Loss: 0.661753 - Average Training Accuracy: 0.513520\n"
     ]
    },
    {
     "name": "stderr",
     "output_type": "stream",
     "text": [
      "  1%|          | 1/120 [00:41<1:23:15, 41.98s/it]"
     ]
    },
    {
     "name": "stdout",
     "output_type": "stream",
     "text": [
      "Epoch 0/120 - Average Test Loss: 0.908816 - Average Test Accuracy: 0.518472\n",
      "---***---\n",
      "New best model saved with accuracy: 0.518472\n",
      "---------------------------***---------------------------\n",
      "Epoch 1/120 - Average Training Loss: 0.566386 - Average Training Accuracy: 0.548870\n"
     ]
    },
    {
     "name": "stderr",
     "output_type": "stream",
     "text": [
      "  2%|▏         | 2/120 [01:22<1:20:50, 41.10s/it]"
     ]
    },
    {
     "name": "stdout",
     "output_type": "stream",
     "text": [
      "Epoch 1/120 - Average Test Loss: 0.686451 - Average Test Accuracy: 0.568316\n",
      "---***---\n",
      "New best model saved with accuracy: 0.568316\n",
      "---------------------------***---------------------------\n",
      "Epoch 2/120 - Average Training Loss: 0.517525 - Average Training Accuracy: 0.570368\n"
     ]
    },
    {
     "name": "stderr",
     "output_type": "stream",
     "text": [
      "  2%|▎         | 3/120 [02:02<1:19:29, 40.77s/it]"
     ]
    },
    {
     "name": "stdout",
     "output_type": "stream",
     "text": [
      "Epoch 2/120 - Average Test Loss: 0.642190 - Average Test Accuracy: 0.479358\n",
      "---***---\n",
      "Epoch 3/120 - Average Training Loss: 0.479536 - Average Training Accuracy: 0.591755\n"
     ]
    },
    {
     "name": "stderr",
     "output_type": "stream",
     "text": [
      "  3%|▎         | 4/120 [02:43<1:18:29, 40.60s/it]"
     ]
    },
    {
     "name": "stdout",
     "output_type": "stream",
     "text": [
      "Epoch 3/120 - Average Test Loss: 0.639024 - Average Test Accuracy: 0.543333\n",
      "---***---\n",
      "Epoch 4/120 - Average Training Loss: 0.452108 - Average Training Accuracy: 0.602504\n"
     ]
    },
    {
     "name": "stderr",
     "output_type": "stream",
     "text": [
      "  4%|▍         | 5/120 [03:23<1:17:43, 40.55s/it]"
     ]
    },
    {
     "name": "stdout",
     "output_type": "stream",
     "text": [
      "Epoch 4/120 - Average Test Loss: 0.606776 - Average Test Accuracy: 0.572049\n",
      "---***---\n",
      "New best model saved with accuracy: 0.572049\n",
      "---------------------------***---------------------------\n",
      "Epoch 5/120 - Average Training Loss: 0.420364 - Average Training Accuracy: 0.625443\n"
     ]
    },
    {
     "name": "stderr",
     "output_type": "stream",
     "text": [
      "  5%|▌         | 6/120 [04:04<1:16:59, 40.52s/it]"
     ]
    },
    {
     "name": "stdout",
     "output_type": "stream",
     "text": [
      "Epoch 5/120 - Average Test Loss: 0.559512 - Average Test Accuracy: 0.575260\n",
      "---***---\n",
      "New best model saved with accuracy: 0.575260\n",
      "---------------------------***---------------------------\n",
      "Epoch 6/120 - Average Training Loss: 0.386101 - Average Training Accuracy: 0.650377\n"
     ]
    },
    {
     "name": "stderr",
     "output_type": "stream",
     "text": [
      "  6%|▌         | 7/120 [04:44<1:16:19, 40.52s/it]"
     ]
    },
    {
     "name": "stdout",
     "output_type": "stream",
     "text": [
      "Epoch 6/120 - Average Test Loss: 0.529143 - Average Test Accuracy: 0.617899\n",
      "---***---\n",
      "New best model saved with accuracy: 0.617899\n",
      "---------------------------***---------------------------\n",
      "Epoch 7/120 - Average Training Loss: 0.367148 - Average Training Accuracy: 0.659907\n"
     ]
    },
    {
     "name": "stderr",
     "output_type": "stream",
     "text": [
      "  7%|▋         | 8/120 [05:24<1:15:32, 40.47s/it]"
     ]
    },
    {
     "name": "stdout",
     "output_type": "stream",
     "text": [
      "Epoch 7/120 - Average Test Loss: 0.545289 - Average Test Accuracy: 0.549774\n",
      "---***---\n",
      "Epoch 8/120 - Average Training Loss: 0.345721 - Average Training Accuracy: 0.673870\n"
     ]
    },
    {
     "name": "stderr",
     "output_type": "stream",
     "text": [
      "  8%|▊         | 9/120 [06:05<1:14:48, 40.44s/it]"
     ]
    },
    {
     "name": "stdout",
     "output_type": "stream",
     "text": [
      "Epoch 8/120 - Average Test Loss: 0.528048 - Average Test Accuracy: 0.595903\n",
      "---***---\n",
      "Epoch 9/120 - Average Training Loss: 0.321838 - Average Training Accuracy: 0.692154\n"
     ]
    },
    {
     "name": "stderr",
     "output_type": "stream",
     "text": [
      "  8%|▊         | 10/120 [06:45<1:14:05, 40.41s/it]"
     ]
    },
    {
     "name": "stdout",
     "output_type": "stream",
     "text": [
      "Epoch 9/120 - Average Test Loss: 0.557851 - Average Test Accuracy: 0.613229\n",
      "---***---\n",
      "Epoch 10/120 - Average Training Loss: 0.300377 - Average Training Accuracy: 0.710439\n"
     ]
    },
    {
     "name": "stderr",
     "output_type": "stream",
     "text": [
      "  9%|▉         | 11/120 [07:26<1:13:33, 40.49s/it]"
     ]
    },
    {
     "name": "stdout",
     "output_type": "stream",
     "text": [
      "Epoch 10/120 - Average Test Loss: 0.521443 - Average Test Accuracy: 0.655885\n",
      "---***---\n",
      "New best model saved with accuracy: 0.655885\n",
      "---------------------------***---------------------------\n",
      "Epoch 11/120 - Average Training Loss: 0.281309 - Average Training Accuracy: 0.720301\n"
     ]
    },
    {
     "name": "stderr",
     "output_type": "stream",
     "text": [
      " 10%|█         | 12/120 [08:06<1:12:49, 40.46s/it]"
     ]
    },
    {
     "name": "stdout",
     "output_type": "stream",
     "text": [
      "Epoch 11/120 - Average Test Loss: 0.492546 - Average Test Accuracy: 0.614670\n",
      "---***---\n",
      "Epoch 12/120 - Average Training Loss: 0.272874 - Average Training Accuracy: 0.725177\n"
     ]
    },
    {
     "name": "stderr",
     "output_type": "stream",
     "text": [
      " 11%|█         | 13/120 [08:47<1:12:09, 40.46s/it]"
     ]
    },
    {
     "name": "stdout",
     "output_type": "stream",
     "text": [
      "Epoch 12/120 - Average Test Loss: 0.471210 - Average Test Accuracy: 0.660521\n",
      "---***---\n",
      "New best model saved with accuracy: 0.660521\n",
      "---------------------------***---------------------------\n",
      "Epoch 13/120 - Average Training Loss: 0.244775 - Average Training Accuracy: 0.759419\n"
     ]
    },
    {
     "name": "stderr",
     "output_type": "stream",
     "text": [
      " 12%|█▏        | 14/120 [09:27<1:11:27, 40.45s/it]"
     ]
    },
    {
     "name": "stdout",
     "output_type": "stream",
     "text": [
      "Epoch 13/120 - Average Test Loss: 0.592079 - Average Test Accuracy: 0.621545\n",
      "---***---\n",
      "Epoch 14/120 - Average Training Loss: 0.234636 - Average Training Accuracy: 0.766401\n"
     ]
    },
    {
     "name": "stderr",
     "output_type": "stream",
     "text": [
      " 12%|█▎        | 15/120 [10:08<1:10:45, 40.43s/it]"
     ]
    },
    {
     "name": "stdout",
     "output_type": "stream",
     "text": [
      "Epoch 14/120 - Average Test Loss: 0.497963 - Average Test Accuracy: 0.641441\n",
      "---***---\n",
      "Epoch 15/120 - Average Training Loss: 0.214474 - Average Training Accuracy: 0.784464\n"
     ]
    },
    {
     "name": "stderr",
     "output_type": "stream",
     "text": [
      " 13%|█▎        | 16/120 [10:48<1:10:07, 40.46s/it]"
     ]
    },
    {
     "name": "stdout",
     "output_type": "stream",
     "text": [
      "Epoch 15/120 - Average Test Loss: 0.508796 - Average Test Accuracy: 0.687135\n",
      "---***---\n",
      "New best model saved with accuracy: 0.687135\n",
      "---------------------------***---------------------------\n",
      "Epoch 16/120 - Average Training Loss: 0.187524 - Average Training Accuracy: 0.813276\n"
     ]
    },
    {
     "name": "stderr",
     "output_type": "stream",
     "text": [
      " 14%|█▍        | 17/120 [11:28<1:09:24, 40.43s/it]"
     ]
    },
    {
     "name": "stdout",
     "output_type": "stream",
     "text": [
      "Epoch 16/120 - Average Test Loss: 0.555615 - Average Test Accuracy: 0.610191\n",
      "---***---\n",
      "Epoch 17/120 - Average Training Loss: 0.173231 - Average Training Accuracy: 0.818262\n"
     ]
    },
    {
     "name": "stderr",
     "output_type": "stream",
     "text": [
      " 15%|█▌        | 18/120 [12:09<1:08:43, 40.42s/it]"
     ]
    },
    {
     "name": "stdout",
     "output_type": "stream",
     "text": [
      "Epoch 17/120 - Average Test Loss: 0.481118 - Average Test Accuracy: 0.679115\n",
      "---***---\n",
      "Epoch 18/120 - Average Training Loss: 0.151624 - Average Training Accuracy: 0.844193\n"
     ]
    },
    {
     "name": "stderr",
     "output_type": "stream",
     "text": [
      " 16%|█▌        | 19/120 [12:49<1:08:05, 40.45s/it]"
     ]
    },
    {
     "name": "stdout",
     "output_type": "stream",
     "text": [
      "Epoch 18/120 - Average Test Loss: 0.508320 - Average Test Accuracy: 0.696215\n",
      "---***---\n",
      "New best model saved with accuracy: 0.696215\n",
      "---------------------------***---------------------------\n",
      "Epoch 19/120 - Average Training Loss: 0.135034 - Average Training Accuracy: 0.861480\n"
     ]
    },
    {
     "name": "stderr",
     "output_type": "stream",
     "text": [
      " 17%|█▋        | 20/120 [13:30<1:07:22, 40.42s/it]"
     ]
    },
    {
     "name": "stdout",
     "output_type": "stream",
     "text": [
      "Epoch 19/120 - Average Test Loss: 0.496942 - Average Test Accuracy: 0.688472\n",
      "---***---\n",
      "Epoch 20/120 - Average Training Loss: 0.116817 - Average Training Accuracy: 0.881760\n"
     ]
    },
    {
     "name": "stderr",
     "output_type": "stream",
     "text": [
      " 18%|█▊        | 21/120 [14:10<1:06:45, 40.46s/it]"
     ]
    },
    {
     "name": "stdout",
     "output_type": "stream",
     "text": [
      "Epoch 20/120 - Average Test Loss: 0.511038 - Average Test Accuracy: 0.714948\n",
      "---***---\n",
      "New best model saved with accuracy: 0.714948\n",
      "---------------------------***---------------------------\n",
      "Epoch 21/120 - Average Training Loss: 0.104959 - Average Training Accuracy: 0.891955\n"
     ]
    },
    {
     "name": "stderr",
     "output_type": "stream",
     "text": [
      " 18%|█▊        | 22/120 [14:51<1:06:03, 40.44s/it]"
     ]
    },
    {
     "name": "stdout",
     "output_type": "stream",
     "text": [
      "Epoch 21/120 - Average Test Loss: 0.614220 - Average Test Accuracy: 0.678333\n",
      "---***---\n",
      "Epoch 22/120 - Average Training Loss: 0.097829 - Average Training Accuracy: 0.900155\n"
     ]
    },
    {
     "name": "stderr",
     "output_type": "stream",
     "text": [
      " 19%|█▉        | 23/120 [15:31<1:05:21, 40.43s/it]"
     ]
    },
    {
     "name": "stdout",
     "output_type": "stream",
     "text": [
      "Epoch 22/120 - Average Test Loss: 0.727262 - Average Test Accuracy: 0.636250\n",
      "---***---\n",
      "Epoch 23/120 - Average Training Loss: 0.103362 - Average Training Accuracy: 0.892620\n"
     ]
    },
    {
     "name": "stderr",
     "output_type": "stream",
     "text": [
      " 20%|██        | 24/120 [16:11<1:04:39, 40.42s/it]"
     ]
    },
    {
     "name": "stdout",
     "output_type": "stream",
     "text": [
      "Epoch 23/120 - Average Test Loss: 0.643414 - Average Test Accuracy: 0.666927\n",
      "---***---\n",
      "Epoch 24/120 - Average Training Loss: 0.095445 - Average Training Accuracy: 0.898271\n"
     ]
    },
    {
     "name": "stderr",
     "output_type": "stream",
     "text": [
      " 21%|██        | 25/120 [16:52<1:04:03, 40.46s/it]"
     ]
    },
    {
     "name": "stdout",
     "output_type": "stream",
     "text": [
      "Epoch 24/120 - Average Test Loss: 0.509932 - Average Test Accuracy: 0.726840\n",
      "---***---\n",
      "New best model saved with accuracy: 0.726840\n",
      "---------------------------***---------------------------\n",
      "Epoch 25/120 - Average Training Loss: 0.076225 - Average Training Accuracy: 0.917442\n"
     ]
    },
    {
     "name": "stderr",
     "output_type": "stream",
     "text": [
      " 22%|██▏       | 26/120 [17:32<1:03:20, 40.43s/it]"
     ]
    },
    {
     "name": "stdout",
     "output_type": "stream",
     "text": [
      "Epoch 25/120 - Average Test Loss: 0.746772 - Average Test Accuracy: 0.661788\n",
      "---***---\n",
      "Epoch 26/120 - Average Training Loss: 0.080773 - Average Training Accuracy: 0.917996\n"
     ]
    },
    {
     "name": "stderr",
     "output_type": "stream",
     "text": [
      " 22%|██▎       | 27/120 [18:13<1:02:37, 40.40s/it]"
     ]
    },
    {
     "name": "stdout",
     "output_type": "stream",
     "text": [
      "Epoch 26/120 - Average Test Loss: 0.570212 - Average Test Accuracy: 0.700069\n",
      "---***---\n",
      "Epoch 27/120 - Average Training Loss: 0.071399 - Average Training Accuracy: 0.925421\n"
     ]
    },
    {
     "name": "stderr",
     "output_type": "stream",
     "text": [
      " 23%|██▎       | 28/120 [18:53<1:01:58, 40.42s/it]"
     ]
    },
    {
     "name": "stdout",
     "output_type": "stream",
     "text": [
      "Epoch 27/120 - Average Test Loss: 0.571007 - Average Test Accuracy: 0.709792\n",
      "---***---\n",
      "Epoch 28/120 - Average Training Loss: 0.050115 - Average Training Accuracy: 0.951574\n"
     ]
    },
    {
     "name": "stderr",
     "output_type": "stream",
     "text": [
      " 24%|██▍       | 29/120 [19:34<1:01:18, 40.42s/it]"
     ]
    },
    {
     "name": "stdout",
     "output_type": "stream",
     "text": [
      "Epoch 28/120 - Average Test Loss: 0.531498 - Average Test Accuracy: 0.734340\n",
      "---***---\n",
      "New best model saved with accuracy: 0.734340\n",
      "---------------------------***---------------------------\n",
      "Epoch 29/120 - Average Training Loss: 0.052054 - Average Training Accuracy: 0.953901\n"
     ]
    },
    {
     "name": "stderr",
     "output_type": "stream",
     "text": [
      " 25%|██▌       | 30/120 [20:14<1:00:37, 40.41s/it]"
     ]
    },
    {
     "name": "stdout",
     "output_type": "stream",
     "text": [
      "Epoch 29/120 - Average Test Loss: 0.576137 - Average Test Accuracy: 0.727656\n",
      "---***---\n",
      "Epoch 30/120 - Average Training Loss: 0.051655 - Average Training Accuracy: 0.949246\n"
     ]
    },
    {
     "name": "stderr",
     "output_type": "stream",
     "text": [
      " 26%|██▌       | 31/120 [20:54<59:59, 40.44s/it]  "
     ]
    },
    {
     "name": "stdout",
     "output_type": "stream",
     "text": [
      "Epoch 30/120 - Average Test Loss: 0.513091 - Average Test Accuracy: 0.749392\n",
      "---***---\n",
      "New best model saved with accuracy: 0.749392\n",
      "---------------------------***---------------------------\n",
      "Epoch 31/120 - Average Training Loss: 0.034863 - Average Training Accuracy: 0.966312\n"
     ]
    },
    {
     "name": "stderr",
     "output_type": "stream",
     "text": [
      " 27%|██▋       | 32/120 [21:35<59:20, 40.46s/it]"
     ]
    },
    {
     "name": "stdout",
     "output_type": "stream",
     "text": [
      "Epoch 31/120 - Average Test Loss: 0.537922 - Average Test Accuracy: 0.758646\n",
      "---***---\n",
      "New best model saved with accuracy: 0.758646\n",
      "---------------------------***---------------------------\n",
      "Epoch 32/120 - Average Training Loss: 0.030727 - Average Training Accuracy: 0.974402\n"
     ]
    },
    {
     "name": "stderr",
     "output_type": "stream",
     "text": [
      " 28%|██▊       | 33/120 [22:15<58:37, 40.43s/it]"
     ]
    },
    {
     "name": "stdout",
     "output_type": "stream",
     "text": [
      "Epoch 32/120 - Average Test Loss: 0.568943 - Average Test Accuracy: 0.751076\n",
      "---***---\n",
      "Epoch 33/120 - Average Training Loss: 0.042569 - Average Training Accuracy: 0.957558\n"
     ]
    },
    {
     "name": "stderr",
     "output_type": "stream",
     "text": [
      " 28%|██▊       | 34/120 [22:56<57:53, 40.39s/it]"
     ]
    },
    {
     "name": "stdout",
     "output_type": "stream",
     "text": [
      "Epoch 33/120 - Average Test Loss: 0.738895 - Average Test Accuracy: 0.680920\n",
      "---***---\n",
      "Epoch 34/120 - Average Training Loss: 0.043542 - Average Training Accuracy: 0.955009\n"
     ]
    },
    {
     "name": "stderr",
     "output_type": "stream",
     "text": [
      " 29%|██▉       | 35/120 [23:36<57:12, 40.39s/it]"
     ]
    },
    {
     "name": "stdout",
     "output_type": "stream",
     "text": [
      "Epoch 34/120 - Average Test Loss: 0.572004 - Average Test Accuracy: 0.746424\n",
      "---***---\n",
      "Epoch 35/120 - Average Training Loss: 0.038414 - Average Training Accuracy: 0.960993\n"
     ]
    },
    {
     "name": "stderr",
     "output_type": "stream",
     "text": [
      " 30%|███       | 36/120 [24:17<56:34, 40.42s/it]"
     ]
    },
    {
     "name": "stdout",
     "output_type": "stream",
     "text": [
      "Epoch 35/120 - Average Test Loss: 0.528694 - Average Test Accuracy: 0.771337\n",
      "---***---\n",
      "New best model saved with accuracy: 0.771337\n",
      "---------------------------***---------------------------\n",
      "Epoch 36/120 - Average Training Loss: 0.028713 - Average Training Accuracy: 0.973293\n"
     ]
    },
    {
     "name": "stderr",
     "output_type": "stream",
     "text": [
      " 31%|███       | 37/120 [24:57<55:51, 40.38s/it]"
     ]
    },
    {
     "name": "stdout",
     "output_type": "stream",
     "text": [
      "Epoch 36/120 - Average Test Loss: 0.627777 - Average Test Accuracy: 0.767483\n",
      "---***---\n",
      "Epoch 37/120 - Average Training Loss: 0.024749 - Average Training Accuracy: 0.977615\n"
     ]
    },
    {
     "name": "stderr",
     "output_type": "stream",
     "text": [
      " 32%|███▏      | 38/120 [25:37<55:09, 40.36s/it]"
     ]
    },
    {
     "name": "stdout",
     "output_type": "stream",
     "text": [
      "Epoch 37/120 - Average Test Loss: 0.684733 - Average Test Accuracy: 0.763715\n",
      "---***---\n",
      "Epoch 38/120 - Average Training Loss: 0.029742 - Average Training Accuracy: 0.973404\n"
     ]
    },
    {
     "name": "stderr",
     "output_type": "stream",
     "text": [
      " 32%|███▎      | 39/120 [26:18<54:29, 40.37s/it]"
     ]
    },
    {
     "name": "stdout",
     "output_type": "stream",
     "text": [
      "Epoch 38/120 - Average Test Loss: 0.694105 - Average Test Accuracy: 0.739184\n",
      "---***---\n",
      "Epoch 39/120 - Average Training Loss: 0.034101 - Average Training Accuracy: 0.965315\n"
     ]
    },
    {
     "name": "stderr",
     "output_type": "stream",
     "text": [
      " 33%|███▎      | 40/120 [26:58<53:48, 40.36s/it]"
     ]
    },
    {
     "name": "stdout",
     "output_type": "stream",
     "text": [
      "Epoch 39/120 - Average Test Loss: 0.645998 - Average Test Accuracy: 0.736944\n",
      "---***---\n",
      "Epoch 40/120 - Average Training Loss: 0.029453 - Average Training Accuracy: 0.973293\n"
     ]
    },
    {
     "name": "stderr",
     "output_type": "stream",
     "text": [
      " 34%|███▍      | 41/120 [27:38<53:08, 40.36s/it]"
     ]
    },
    {
     "name": "stdout",
     "output_type": "stream",
     "text": [
      "Epoch 40/120 - Average Test Loss: 0.765015 - Average Test Accuracy: 0.704358\n",
      "---***---\n",
      "Epoch 41/120 - Average Training Loss: 0.043110 - Average Training Accuracy: 0.959220\n"
     ]
    },
    {
     "name": "stderr",
     "output_type": "stream",
     "text": [
      " 35%|███▌      | 42/120 [28:19<52:27, 40.35s/it]"
     ]
    },
    {
     "name": "stdout",
     "output_type": "stream",
     "text": [
      "Epoch 41/120 - Average Test Loss: 0.694856 - Average Test Accuracy: 0.723750\n",
      "---***---\n",
      "Epoch 42/120 - Average Training Loss: 0.039472 - Average Training Accuracy: 0.960106\n"
     ]
    },
    {
     "name": "stderr",
     "output_type": "stream",
     "text": [
      " 36%|███▌      | 43/120 [28:59<51:47, 40.36s/it]"
     ]
    },
    {
     "name": "stdout",
     "output_type": "stream",
     "text": [
      "Epoch 42/120 - Average Test Loss: 0.949120 - Average Test Accuracy: 0.703490\n",
      "---***---\n",
      "Epoch 43/120 - Average Training Loss: 0.054026 - Average Training Accuracy: 0.946476\n"
     ]
    },
    {
     "name": "stderr",
     "output_type": "stream",
     "text": [
      " 37%|███▋      | 44/120 [29:39<51:05, 40.34s/it]"
     ]
    },
    {
     "name": "stdout",
     "output_type": "stream",
     "text": [
      "Epoch 43/120 - Average Test Loss: 0.559660 - Average Test Accuracy: 0.741337\n",
      "---***---\n",
      "Epoch 44/120 - Average Training Loss: 0.049580 - Average Training Accuracy: 0.952460\n"
     ]
    },
    {
     "name": "stderr",
     "output_type": "stream",
     "text": [
      " 38%|███▊      | 45/120 [30:19<50:23, 40.31s/it]"
     ]
    },
    {
     "name": "stdout",
     "output_type": "stream",
     "text": [
      "Epoch 44/120 - Average Test Loss: 0.842799 - Average Test Accuracy: 0.720017\n",
      "---***---\n",
      "Epoch 45/120 - Average Training Loss: 0.049499 - Average Training Accuracy: 0.947806\n"
     ]
    },
    {
     "name": "stderr",
     "output_type": "stream",
     "text": [
      " 38%|███▊      | 46/120 [31:00<49:43, 40.32s/it]"
     ]
    },
    {
     "name": "stdout",
     "output_type": "stream",
     "text": [
      "Epoch 45/120 - Average Test Loss: 0.660121 - Average Test Accuracy: 0.729375\n",
      "---***---\n",
      "Epoch 46/120 - Average Training Loss: 0.024420 - Average Training Accuracy: 0.975953\n"
     ]
    },
    {
     "name": "stderr",
     "output_type": "stream",
     "text": [
      " 39%|███▉      | 47/120 [31:40<49:03, 40.33s/it]"
     ]
    },
    {
     "name": "stdout",
     "output_type": "stream",
     "text": [
      "Epoch 46/120 - Average Test Loss: 0.655819 - Average Test Accuracy: 0.769722\n",
      "---***---\n",
      "Epoch 47/120 - Average Training Loss: 0.012671 - Average Training Accuracy: 0.990913\n"
     ]
    },
    {
     "name": "stderr",
     "output_type": "stream",
     "text": [
      " 40%|████      | 48/120 [32:21<48:26, 40.37s/it]"
     ]
    },
    {
     "name": "stdout",
     "output_type": "stream",
     "text": [
      "Epoch 47/120 - Average Test Loss: 0.598016 - Average Test Accuracy: 0.773958\n",
      "---***---\n",
      "New best model saved with accuracy: 0.773958\n",
      "---------------------------***---------------------------\n",
      "Epoch 48/120 - Average Training Loss: 0.009557 - Average Training Accuracy: 0.994127\n"
     ]
    },
    {
     "name": "stderr",
     "output_type": "stream",
     "text": [
      " 41%|████      | 49/120 [33:01<47:47, 40.39s/it]"
     ]
    },
    {
     "name": "stdout",
     "output_type": "stream",
     "text": [
      "Epoch 48/120 - Average Test Loss: 0.661121 - Average Test Accuracy: 0.764410\n",
      "---***---\n",
      "Epoch 49/120 - Average Training Loss: 0.007850 - Average Training Accuracy: 0.994902\n"
     ]
    },
    {
     "name": "stderr",
     "output_type": "stream",
     "text": [
      " 42%|████▏     | 50/120 [33:42<47:09, 40.42s/it]"
     ]
    },
    {
     "name": "stdout",
     "output_type": "stream",
     "text": [
      "Epoch 49/120 - Average Test Loss: 0.587032 - Average Test Accuracy: 0.775069\n",
      "---***---\n",
      "New best model saved with accuracy: 0.775069\n",
      "---------------------------***---------------------------\n",
      "Epoch 50/120 - Average Training Loss: 0.008520 - Average Training Accuracy: 0.993573\n"
     ]
    },
    {
     "name": "stderr",
     "output_type": "stream",
     "text": [
      " 42%|████▎     | 51/120 [34:22<46:29, 40.43s/it]"
     ]
    },
    {
     "name": "stdout",
     "output_type": "stream",
     "text": [
      "Epoch 50/120 - Average Test Loss: 0.678401 - Average Test Accuracy: 0.776059\n",
      "---***---\n",
      "New best model saved with accuracy: 0.776059\n",
      "---------------------------***---------------------------\n",
      "Epoch 51/120 - Average Training Loss: 0.007381 - Average Training Accuracy: 0.995900\n"
     ]
    },
    {
     "name": "stderr",
     "output_type": "stream",
     "text": [
      " 43%|████▎     | 52/120 [35:02<45:47, 40.41s/it]"
     ]
    },
    {
     "name": "stdout",
     "output_type": "stream",
     "text": [
      "Epoch 51/120 - Average Test Loss: 0.653675 - Average Test Accuracy: 0.772517\n",
      "---***---\n",
      "Epoch 52/120 - Average Training Loss: 0.008419 - Average Training Accuracy: 0.993794\n"
     ]
    },
    {
     "name": "stderr",
     "output_type": "stream",
     "text": [
      " 44%|████▍     | 53/120 [35:43<45:08, 40.43s/it]"
     ]
    },
    {
     "name": "stdout",
     "output_type": "stream",
     "text": [
      "Epoch 52/120 - Average Test Loss: 0.596700 - Average Test Accuracy: 0.787031\n",
      "---***---\n",
      "New best model saved with accuracy: 0.787031\n",
      "---------------------------***---------------------------\n",
      "Epoch 53/120 - Average Training Loss: 0.007073 - Average Training Accuracy: 0.994681\n"
     ]
    },
    {
     "name": "stderr",
     "output_type": "stream",
     "text": [
      " 45%|████▌     | 54/120 [36:23<44:26, 40.40s/it]"
     ]
    },
    {
     "name": "stdout",
     "output_type": "stream",
     "text": [
      "Epoch 53/120 - Average Test Loss: 0.677943 - Average Test Accuracy: 0.783368\n",
      "---***---\n",
      "Epoch 54/120 - Average Training Loss: 0.005981 - Average Training Accuracy: 0.995567\n"
     ]
    },
    {
     "name": "stderr",
     "output_type": "stream",
     "text": [
      " 46%|████▌     | 55/120 [37:04<43:45, 40.40s/it]"
     ]
    },
    {
     "name": "stdout",
     "output_type": "stream",
     "text": [
      "Epoch 54/120 - Average Test Loss: 0.610807 - Average Test Accuracy: 0.792917\n",
      "---***---\n",
      "New best model saved with accuracy: 0.792917\n",
      "---------------------------***---------------------------\n",
      "Epoch 55/120 - Average Training Loss: 0.005298 - Average Training Accuracy: 0.995789\n"
     ]
    },
    {
     "name": "stderr",
     "output_type": "stream",
     "text": [
      " 47%|████▋     | 56/120 [37:44<43:04, 40.38s/it]"
     ]
    },
    {
     "name": "stdout",
     "output_type": "stream",
     "text": [
      "Epoch 55/120 - Average Test Loss: 0.609885 - Average Test Accuracy: 0.783559\n",
      "---***---\n",
      "Epoch 56/120 - Average Training Loss: 0.003427 - Average Training Accuracy: 0.998670\n"
     ]
    },
    {
     "name": "stderr",
     "output_type": "stream",
     "text": [
      " 48%|████▊     | 57/120 [38:24<42:26, 40.41s/it]"
     ]
    },
    {
     "name": "stdout",
     "output_type": "stream",
     "text": [
      "Epoch 56/120 - Average Test Loss: 0.626909 - Average Test Accuracy: 0.797066\n",
      "---***---\n",
      "New best model saved with accuracy: 0.797066\n",
      "---------------------------***---------------------------\n",
      "Epoch 57/120 - Average Training Loss: 0.002421 - Average Training Accuracy: 0.999335\n"
     ]
    },
    {
     "name": "stderr",
     "output_type": "stream",
     "text": [
      " 48%|████▊     | 58/120 [39:05<41:44, 40.39s/it]"
     ]
    },
    {
     "name": "stdout",
     "output_type": "stream",
     "text": [
      "Epoch 57/120 - Average Test Loss: 0.623850 - Average Test Accuracy: 0.794965\n",
      "---***---\n",
      "Epoch 58/120 - Average Training Loss: 0.002200 - Average Training Accuracy: 0.999224\n"
     ]
    },
    {
     "name": "stderr",
     "output_type": "stream",
     "text": [
      " 49%|████▉     | 59/120 [39:45<41:02, 40.37s/it]"
     ]
    },
    {
     "name": "stdout",
     "output_type": "stream",
     "text": [
      "Epoch 58/120 - Average Test Loss: 0.622512 - Average Test Accuracy: 0.790382\n",
      "---***---\n",
      "Epoch 59/120 - Average Training Loss: 0.002241 - Average Training Accuracy: 0.999224\n"
     ]
    },
    {
     "name": "stderr",
     "output_type": "stream",
     "text": [
      " 50%|█████     | 60/120 [40:25<40:23, 40.39s/it]"
     ]
    },
    {
     "name": "stdout",
     "output_type": "stream",
     "text": [
      "Epoch 59/120 - Average Test Loss: 0.641444 - Average Test Accuracy: 0.790868\n",
      "---***---\n",
      "Epoch 60/120 - Average Training Loss: 0.002089 - Average Training Accuracy: 0.999224\n"
     ]
    },
    {
     "name": "stderr",
     "output_type": "stream",
     "text": [
      " 51%|█████     | 61/120 [41:06<39:43, 40.39s/it]"
     ]
    },
    {
     "name": "stdout",
     "output_type": "stream",
     "text": [
      "Epoch 60/120 - Average Test Loss: 0.629573 - Average Test Accuracy: 0.794097\n",
      "---***---\n",
      "Epoch 61/120 - Average Training Loss: 0.001608 - Average Training Accuracy: 0.999778\n"
     ]
    },
    {
     "name": "stderr",
     "output_type": "stream",
     "text": [
      " 52%|█████▏    | 62/120 [41:46<39:02, 40.38s/it]"
     ]
    },
    {
     "name": "stdout",
     "output_type": "stream",
     "text": [
      "Epoch 61/120 - Average Test Loss: 0.644211 - Average Test Accuracy: 0.789201\n",
      "---***---\n",
      "Epoch 62/120 - Average Training Loss: 0.001573 - Average Training Accuracy: 1.000000\n"
     ]
    },
    {
     "name": "stderr",
     "output_type": "stream",
     "text": [
      " 52%|█████▎    | 63/120 [42:27<38:23, 40.41s/it]"
     ]
    },
    {
     "name": "stdout",
     "output_type": "stream",
     "text": [
      "Epoch 62/120 - Average Test Loss: 0.642034 - Average Test Accuracy: 0.800729\n",
      "---***---\n",
      "New best model saved with accuracy: 0.800729\n",
      "---------------------------***---------------------------\n",
      "Epoch 63/120 - Average Training Loss: 0.001519 - Average Training Accuracy: 0.999446\n"
     ]
    },
    {
     "name": "stderr",
     "output_type": "stream",
     "text": [
      " 53%|█████▎    | 64/120 [43:07<37:42, 40.40s/it]"
     ]
    },
    {
     "name": "stdout",
     "output_type": "stream",
     "text": [
      "Epoch 63/120 - Average Test Loss: 0.658997 - Average Test Accuracy: 0.797378\n",
      "---***---\n",
      "Epoch 64/120 - Average Training Loss: 0.001518 - Average Training Accuracy: 0.999889\n"
     ]
    },
    {
     "name": "stderr",
     "output_type": "stream",
     "text": [
      " 54%|█████▍    | 65/120 [43:47<37:00, 40.38s/it]"
     ]
    },
    {
     "name": "stdout",
     "output_type": "stream",
     "text": [
      "Epoch 64/120 - Average Test Loss: 0.683356 - Average Test Accuracy: 0.791319\n",
      "---***---\n",
      "Epoch 65/120 - Average Training Loss: 0.004946 - Average Training Accuracy: 0.997784\n"
     ]
    },
    {
     "name": "stderr",
     "output_type": "stream",
     "text": [
      " 55%|█████▌    | 66/120 [44:28<36:21, 40.39s/it]"
     ]
    },
    {
     "name": "stdout",
     "output_type": "stream",
     "text": [
      "Epoch 65/120 - Average Test Loss: 0.815507 - Average Test Accuracy: 0.753264\n",
      "---***---\n",
      "Epoch 66/120 - Average Training Loss: 0.078775 - Average Training Accuracy: 0.936281\n"
     ]
    },
    {
     "name": "stderr",
     "output_type": "stream",
     "text": [
      " 56%|█████▌    | 67/120 [45:08<35:41, 40.41s/it]"
     ]
    },
    {
     "name": "stdout",
     "output_type": "stream",
     "text": [
      "Epoch 66/120 - Average Test Loss: 2.507032 - Average Test Accuracy: 0.570677\n",
      "---***---\n",
      "Epoch 67/120 - Average Training Loss: 0.285295 - Average Training Accuracy: 0.737145\n"
     ]
    },
    {
     "name": "stderr",
     "output_type": "stream",
     "text": [
      " 57%|█████▋    | 68/120 [45:49<35:00, 40.39s/it]"
     ]
    },
    {
     "name": "stdout",
     "output_type": "stream",
     "text": [
      "Epoch 67/120 - Average Test Loss: 1.369762 - Average Test Accuracy: 0.571111\n",
      "---***---\n",
      "Epoch 68/120 - Average Training Loss: 0.131919 - Average Training Accuracy: 0.857380\n"
     ]
    },
    {
     "name": "stderr",
     "output_type": "stream",
     "text": [
      " 57%|█████▊    | 69/120 [46:29<34:19, 40.38s/it]"
     ]
    },
    {
     "name": "stdout",
     "output_type": "stream",
     "text": [
      "Epoch 68/120 - Average Test Loss: 0.753096 - Average Test Accuracy: 0.629844\n",
      "---***---\n",
      "Epoch 69/120 - Average Training Loss: 0.057184 - Average Training Accuracy: 0.937500\n"
     ]
    },
    {
     "name": "stderr",
     "output_type": "stream",
     "text": [
      " 58%|█████▊    | 70/120 [47:09<33:38, 40.38s/it]"
     ]
    },
    {
     "name": "stdout",
     "output_type": "stream",
     "text": [
      "Epoch 69/120 - Average Test Loss: 0.599698 - Average Test Accuracy: 0.739618\n",
      "---***---\n",
      "Epoch 70/120 - Average Training Loss: 0.026872 - Average Training Accuracy: 0.974069\n"
     ]
    },
    {
     "name": "stderr",
     "output_type": "stream",
     "text": [
      " 59%|█████▉    | 71/120 [47:50<32:57, 40.37s/it]"
     ]
    },
    {
     "name": "stdout",
     "output_type": "stream",
     "text": [
      "Epoch 70/120 - Average Test Loss: 0.519430 - Average Test Accuracy: 0.764514\n",
      "---***---\n",
      "Epoch 71/120 - Average Training Loss: 0.015946 - Average Training Accuracy: 0.987367\n"
     ]
    },
    {
     "name": "stderr",
     "output_type": "stream",
     "text": [
      " 60%|██████    | 72/120 [48:30<32:16, 40.34s/it]"
     ]
    },
    {
     "name": "stdout",
     "output_type": "stream",
     "text": [
      "Epoch 71/120 - Average Test Loss: 0.554091 - Average Test Accuracy: 0.790799\n",
      "---***---\n",
      "Epoch 72/120 - Average Training Loss: 0.011589 - Average Training Accuracy: 0.991578\n"
     ]
    },
    {
     "name": "stderr",
     "output_type": "stream",
     "text": [
      " 61%|██████    | 73/120 [49:10<31:35, 40.34s/it]"
     ]
    },
    {
     "name": "stdout",
     "output_type": "stream",
     "text": [
      "Epoch 72/120 - Average Test Loss: 0.568763 - Average Test Accuracy: 0.785417\n",
      "---***---\n",
      "Epoch 73/120 - Average Training Loss: 0.008682 - Average Training Accuracy: 0.994681\n"
     ]
    },
    {
     "name": "stderr",
     "output_type": "stream",
     "text": [
      " 62%|██████▏   | 74/120 [49:51<30:56, 40.36s/it]"
     ]
    },
    {
     "name": "stdout",
     "output_type": "stream",
     "text": [
      "Epoch 73/120 - Average Test Loss: 0.558474 - Average Test Accuracy: 0.779028\n",
      "---***---\n",
      "Epoch 74/120 - Average Training Loss: 0.005152 - Average Training Accuracy: 0.997784\n"
     ]
    },
    {
     "name": "stderr",
     "output_type": "stream",
     "text": [
      " 62%|██████▎   | 75/120 [50:31<30:15, 40.35s/it]"
     ]
    },
    {
     "name": "stdout",
     "output_type": "stream",
     "text": [
      "Epoch 74/120 - Average Test Loss: 0.579425 - Average Test Accuracy: 0.791667\n",
      "---***---\n",
      "Epoch 75/120 - Average Training Loss: 0.003865 - Average Training Accuracy: 0.999003\n"
     ]
    },
    {
     "name": "stderr",
     "output_type": "stream",
     "text": [
      " 63%|██████▎   | 76/120 [51:11<29:34, 40.34s/it]"
     ]
    },
    {
     "name": "stdout",
     "output_type": "stream",
     "text": [
      "Epoch 75/120 - Average Test Loss: 0.591022 - Average Test Accuracy: 0.791858\n",
      "---***---\n",
      "Epoch 76/120 - Average Training Loss: 0.003301 - Average Training Accuracy: 0.999003\n"
     ]
    },
    {
     "name": "stderr",
     "output_type": "stream",
     "text": [
      " 64%|██████▍   | 77/120 [51:52<28:54, 40.34s/it]"
     ]
    },
    {
     "name": "stdout",
     "output_type": "stream",
     "text": [
      "Epoch 76/120 - Average Test Loss: 0.581924 - Average Test Accuracy: 0.796684\n",
      "---***---\n",
      "Epoch 77/120 - Average Training Loss: 0.002953 - Average Training Accuracy: 0.999113\n"
     ]
    },
    {
     "name": "stderr",
     "output_type": "stream",
     "text": [
      " 65%|██████▌   | 78/120 [52:32<28:14, 40.35s/it]"
     ]
    },
    {
     "name": "stdout",
     "output_type": "stream",
     "text": [
      "Epoch 77/120 - Average Test Loss: 0.619762 - Average Test Accuracy: 0.779271\n",
      "---***---\n",
      "Epoch 78/120 - Average Training Loss: 0.002980 - Average Training Accuracy: 0.999113\n"
     ]
    },
    {
     "name": "stderr",
     "output_type": "stream",
     "text": [
      " 66%|██████▌   | 79/120 [53:12<27:33, 40.33s/it]"
     ]
    },
    {
     "name": "stdout",
     "output_type": "stream",
     "text": [
      "Epoch 78/120 - Average Test Loss: 0.597301 - Average Test Accuracy: 0.792656\n",
      "---***---\n",
      "Epoch 79/120 - Average Training Loss: 0.002634 - Average Training Accuracy: 0.999224\n"
     ]
    },
    {
     "name": "stderr",
     "output_type": "stream",
     "text": [
      " 67%|██████▋   | 80/120 [53:53<26:53, 40.34s/it]"
     ]
    },
    {
     "name": "stdout",
     "output_type": "stream",
     "text": [
      "Epoch 79/120 - Average Test Loss: 0.603141 - Average Test Accuracy: 0.794392\n",
      "---***---\n",
      "Epoch 80/120 - Average Training Loss: 0.002801 - Average Training Accuracy: 0.999335\n"
     ]
    },
    {
     "name": "stderr",
     "output_type": "stream",
     "text": [
      " 68%|██████▊   | 81/120 [54:33<26:14, 40.36s/it]"
     ]
    },
    {
     "name": "stdout",
     "output_type": "stream",
     "text": [
      "Epoch 80/120 - Average Test Loss: 0.623548 - Average Test Accuracy: 0.794774\n",
      "---***---\n",
      "Epoch 81/120 - Average Training Loss: 0.008286 - Average Training Accuracy: 0.996676\n"
     ]
    },
    {
     "name": "stderr",
     "output_type": "stream",
     "text": [
      " 68%|██████▊   | 82/120 [55:13<25:33, 40.34s/it]"
     ]
    },
    {
     "name": "stdout",
     "output_type": "stream",
     "text": [
      "Epoch 81/120 - Average Test Loss: 0.733720 - Average Test Accuracy: 0.772691\n",
      "---***---\n",
      "Epoch 82/120 - Average Training Loss: 0.006462 - Average Training Accuracy: 0.996343\n"
     ]
    },
    {
     "name": "stderr",
     "output_type": "stream",
     "text": [
      " 69%|██████▉   | 83/120 [55:54<24:52, 40.35s/it]"
     ]
    },
    {
     "name": "stdout",
     "output_type": "stream",
     "text": [
      "Epoch 82/120 - Average Test Loss: 0.712556 - Average Test Accuracy: 0.768507\n",
      "---***---\n",
      "Epoch 83/120 - Average Training Loss: 0.005295 - Average Training Accuracy: 0.996565\n"
     ]
    },
    {
     "name": "stderr",
     "output_type": "stream",
     "text": [
      " 70%|███████   | 84/120 [56:34<24:12, 40.34s/it]"
     ]
    },
    {
     "name": "stdout",
     "output_type": "stream",
     "text": [
      "Epoch 83/120 - Average Test Loss: 0.639687 - Average Test Accuracy: 0.774878\n",
      "---***---\n",
      "Epoch 84/120 - Average Training Loss: 0.003589 - Average Training Accuracy: 0.998449\n"
     ]
    },
    {
     "name": "stderr",
     "output_type": "stream",
     "text": [
      " 71%|███████   | 85/120 [57:14<23:31, 40.33s/it]"
     ]
    },
    {
     "name": "stdout",
     "output_type": "stream",
     "text": [
      "Epoch 84/120 - Average Test Loss: 0.663861 - Average Test Accuracy: 0.783733\n",
      "---***---\n",
      "Epoch 85/120 - Average Training Loss: 0.003331 - Average Training Accuracy: 0.998005\n"
     ]
    },
    {
     "name": "stderr",
     "output_type": "stream",
     "text": [
      " 72%|███████▏  | 86/120 [57:55<22:51, 40.33s/it]"
     ]
    },
    {
     "name": "stdout",
     "output_type": "stream",
     "text": [
      "Epoch 85/120 - Average Test Loss: 0.678575 - Average Test Accuracy: 0.779028\n",
      "---***---\n",
      "Epoch 86/120 - Average Training Loss: 0.002348 - Average Training Accuracy: 0.999113\n"
     ]
    },
    {
     "name": "stderr",
     "output_type": "stream",
     "text": [
      " 72%|███████▎  | 87/120 [58:35<22:10, 40.33s/it]"
     ]
    },
    {
     "name": "stdout",
     "output_type": "stream",
     "text": [
      "Epoch 86/120 - Average Test Loss: 0.655587 - Average Test Accuracy: 0.792604\n",
      "---***---\n",
      "Epoch 87/120 - Average Training Loss: 0.002484 - Average Training Accuracy: 0.998781\n"
     ]
    },
    {
     "name": "stderr",
     "output_type": "stream",
     "text": [
      " 73%|███████▎  | 88/120 [59:15<21:30, 40.34s/it]"
     ]
    },
    {
     "name": "stdout",
     "output_type": "stream",
     "text": [
      "Epoch 87/120 - Average Test Loss: 0.643417 - Average Test Accuracy: 0.785781\n",
      "---***---\n",
      "Epoch 88/120 - Average Training Loss: 0.010224 - Average Training Accuracy: 0.992354\n"
     ]
    },
    {
     "name": "stderr",
     "output_type": "stream",
     "text": [
      " 74%|███████▍  | 89/120 [59:56<20:50, 40.35s/it]"
     ]
    },
    {
     "name": "stdout",
     "output_type": "stream",
     "text": [
      "Epoch 88/120 - Average Test Loss: 0.917105 - Average Test Accuracy: 0.742604\n",
      "---***---\n",
      "Epoch 89/120 - Average Training Loss: 0.055214 - Average Training Accuracy: 0.958112\n"
     ]
    },
    {
     "name": "stderr",
     "output_type": "stream",
     "text": [
      " 75%|███████▌  | 90/120 [1:00:36<20:10, 40.34s/it]"
     ]
    },
    {
     "name": "stdout",
     "output_type": "stream",
     "text": [
      "Epoch 89/120 - Average Test Loss: 1.051110 - Average Test Accuracy: 0.723628\n",
      "---***---\n",
      "Epoch 90/120 - Average Training Loss: 0.071166 - Average Training Accuracy: 0.928191\n"
     ]
    },
    {
     "name": "stderr",
     "output_type": "stream",
     "text": [
      " 76%|███████▌  | 91/120 [1:01:17<19:30, 40.35s/it]"
     ]
    },
    {
     "name": "stdout",
     "output_type": "stream",
     "text": [
      "Epoch 90/120 - Average Test Loss: 0.784331 - Average Test Accuracy: 0.742274\n",
      "---***---\n",
      "Epoch 91/120 - Average Training Loss: 0.073214 - Average Training Accuracy: 0.922540\n"
     ]
    },
    {
     "name": "stderr",
     "output_type": "stream",
     "text": [
      " 77%|███████▋  | 92/120 [1:01:57<18:49, 40.34s/it]"
     ]
    },
    {
     "name": "stdout",
     "output_type": "stream",
     "text": [
      "Epoch 91/120 - Average Test Loss: 0.623001 - Average Test Accuracy: 0.693872\n",
      "---***---\n",
      "Epoch 92/120 - Average Training Loss: 0.052502 - Average Training Accuracy: 0.945922\n"
     ]
    },
    {
     "name": "stderr",
     "output_type": "stream",
     "text": [
      " 78%|███████▊  | 93/120 [1:02:37<18:08, 40.33s/it]"
     ]
    },
    {
     "name": "stdout",
     "output_type": "stream",
     "text": [
      "Epoch 92/120 - Average Test Loss: 0.799526 - Average Test Accuracy: 0.709288\n",
      "---***---\n",
      "Epoch 93/120 - Average Training Loss: 0.024539 - Average Training Accuracy: 0.976729\n"
     ]
    },
    {
     "name": "stderr",
     "output_type": "stream",
     "text": [
      " 78%|███████▊  | 94/120 [1:03:17<17:28, 40.33s/it]"
     ]
    },
    {
     "name": "stdout",
     "output_type": "stream",
     "text": [
      "Epoch 93/120 - Average Test Loss: 0.607218 - Average Test Accuracy: 0.752240\n",
      "---***---\n",
      "Epoch 94/120 - Average Training Loss: 0.015073 - Average Training Accuracy: 0.986813\n"
     ]
    },
    {
     "name": "stderr",
     "output_type": "stream",
     "text": [
      " 79%|███████▉  | 95/120 [1:03:58<16:48, 40.33s/it]"
     ]
    },
    {
     "name": "stdout",
     "output_type": "stream",
     "text": [
      "Epoch 94/120 - Average Test Loss: 0.627461 - Average Test Accuracy: 0.780816\n",
      "---***---\n",
      "Epoch 95/120 - Average Training Loss: 0.006638 - Average Training Accuracy: 0.994792\n"
     ]
    },
    {
     "name": "stderr",
     "output_type": "stream",
     "text": [
      " 80%|████████  | 96/120 [1:04:38<16:08, 40.37s/it]"
     ]
    },
    {
     "name": "stdout",
     "output_type": "stream",
     "text": [
      "Epoch 95/120 - Average Test Loss: 0.590909 - Average Test Accuracy: 0.800972\n",
      "---***---\n",
      "New best model saved with accuracy: 0.800972\n",
      "---------------------------***---------------------------\n",
      "Epoch 96/120 - Average Training Loss: 0.003095 - Average Training Accuracy: 0.998781\n"
     ]
    },
    {
     "name": "stderr",
     "output_type": "stream",
     "text": [
      " 81%|████████  | 97/120 [1:05:19<15:28, 40.36s/it]"
     ]
    },
    {
     "name": "stdout",
     "output_type": "stream",
     "text": [
      "Epoch 96/120 - Average Test Loss: 0.589759 - Average Test Accuracy: 0.796753\n",
      "---***---\n",
      "Epoch 97/120 - Average Training Loss: 0.002413 - Average Training Accuracy: 0.999557\n"
     ]
    },
    {
     "name": "stderr",
     "output_type": "stream",
     "text": [
      " 82%|████████▏ | 98/120 [1:05:59<14:47, 40.36s/it]"
     ]
    },
    {
     "name": "stdout",
     "output_type": "stream",
     "text": [
      "Epoch 97/120 - Average Test Loss: 0.604619 - Average Test Accuracy: 0.797569\n",
      "---***---\n",
      "Epoch 98/120 - Average Training Loss: 0.001950 - Average Training Accuracy: 0.999224\n"
     ]
    },
    {
     "name": "stderr",
     "output_type": "stream",
     "text": [
      " 82%|████████▎ | 99/120 [1:06:39<14:07, 40.36s/it]"
     ]
    },
    {
     "name": "stdout",
     "output_type": "stream",
     "text": [
      "Epoch 98/120 - Average Test Loss: 0.608419 - Average Test Accuracy: 0.792431\n",
      "---***---\n",
      "Epoch 99/120 - Average Training Loss: 0.001485 - Average Training Accuracy: 0.999778\n"
     ]
    },
    {
     "name": "stderr",
     "output_type": "stream",
     "text": [
      " 83%|████████▎ | 100/120 [1:07:20<13:27, 40.36s/it]"
     ]
    },
    {
     "name": "stdout",
     "output_type": "stream",
     "text": [
      "Epoch 99/120 - Average Test Loss: 0.613277 - Average Test Accuracy: 0.794219\n",
      "---***---\n",
      "Epoch 100/120 - Average Training Loss: 0.001314 - Average Training Accuracy: 0.999778\n"
     ]
    },
    {
     "name": "stderr",
     "output_type": "stream",
     "text": [
      " 84%|████████▍ | 101/120 [1:08:00<12:46, 40.35s/it]"
     ]
    },
    {
     "name": "stdout",
     "output_type": "stream",
     "text": [
      "Epoch 100/120 - Average Test Loss: 0.605697 - Average Test Accuracy: 0.795521\n",
      "---***---\n",
      "Epoch 101/120 - Average Training Loss: 0.001432 - Average Training Accuracy: 0.999557\n"
     ]
    },
    {
     "name": "stderr",
     "output_type": "stream",
     "text": [
      " 85%|████████▌ | 102/120 [1:08:40<12:06, 40.36s/it]"
     ]
    },
    {
     "name": "stdout",
     "output_type": "stream",
     "text": [
      "Epoch 101/120 - Average Test Loss: 0.612056 - Average Test Accuracy: 0.789132\n",
      "---***---\n",
      "Epoch 102/120 - Average Training Loss: 0.001651 - Average Training Accuracy: 0.999668\n"
     ]
    },
    {
     "name": "stderr",
     "output_type": "stream",
     "text": [
      " 86%|████████▌ | 103/120 [1:09:21<11:26, 40.36s/it]"
     ]
    },
    {
     "name": "stdout",
     "output_type": "stream",
     "text": [
      "Epoch 102/120 - Average Test Loss: 0.628823 - Average Test Accuracy: 0.794774\n",
      "---***---\n",
      "Epoch 103/120 - Average Training Loss: 0.002463 - Average Training Accuracy: 0.999003\n"
     ]
    },
    {
     "name": "stderr",
     "output_type": "stream",
     "text": [
      " 87%|████████▋ | 104/120 [1:10:01<10:45, 40.35s/it]"
     ]
    },
    {
     "name": "stdout",
     "output_type": "stream",
     "text": [
      "Epoch 103/120 - Average Test Loss: 0.780722 - Average Test Accuracy: 0.772465\n",
      "---***---\n",
      "Epoch 104/120 - Average Training Loss: 0.006776 - Average Training Accuracy: 0.995457\n"
     ]
    },
    {
     "name": "stderr",
     "output_type": "stream",
     "text": [
      " 88%|████████▊ | 105/120 [1:10:41<10:05, 40.35s/it]"
     ]
    },
    {
     "name": "stdout",
     "output_type": "stream",
     "text": [
      "Epoch 104/120 - Average Test Loss: 0.794301 - Average Test Accuracy: 0.769427\n",
      "---***---\n",
      "Epoch 105/120 - Average Training Loss: 0.008945 - Average Training Accuracy: 0.991910\n"
     ]
    },
    {
     "name": "stderr",
     "output_type": "stream",
     "text": [
      " 88%|████████▊ | 106/120 [1:11:22<09:25, 40.37s/it]"
     ]
    },
    {
     "name": "stdout",
     "output_type": "stream",
     "text": [
      "Epoch 105/120 - Average Test Loss: 0.769068 - Average Test Accuracy: 0.770729\n",
      "---***---\n",
      "Epoch 106/120 - Average Training Loss: 0.024348 - Average Training Accuracy: 0.981383\n"
     ]
    },
    {
     "name": "stderr",
     "output_type": "stream",
     "text": [
      " 89%|████████▉ | 107/120 [1:12:02<08:44, 40.35s/it]"
     ]
    },
    {
     "name": "stdout",
     "output_type": "stream",
     "text": [
      "Epoch 106/120 - Average Test Loss: 0.831990 - Average Test Accuracy: 0.725052\n",
      "---***---\n",
      "Epoch 107/120 - Average Training Loss: 0.032769 - Average Training Accuracy: 0.968528\n"
     ]
    },
    {
     "name": "stderr",
     "output_type": "stream",
     "text": [
      " 90%|█████████ | 108/120 [1:12:42<08:04, 40.35s/it]"
     ]
    },
    {
     "name": "stdout",
     "output_type": "stream",
     "text": [
      "Epoch 107/120 - Average Test Loss: 0.819520 - Average Test Accuracy: 0.742535\n",
      "---***---\n",
      "Epoch 108/120 - Average Training Loss: 0.049807 - Average Training Accuracy: 0.955674\n"
     ]
    },
    {
     "name": "stderr",
     "output_type": "stream",
     "text": [
      " 91%|█████████ | 109/120 [1:13:23<07:23, 40.35s/it]"
     ]
    },
    {
     "name": "stdout",
     "output_type": "stream",
     "text": [
      "Epoch 108/120 - Average Test Loss: 0.757932 - Average Test Accuracy: 0.721771\n",
      "---***---\n",
      "Epoch 109/120 - Average Training Loss: 0.037735 - Average Training Accuracy: 0.958887\n"
     ]
    },
    {
     "name": "stderr",
     "output_type": "stream",
     "text": [
      " 92%|█████████▏| 110/120 [1:14:03<06:43, 40.34s/it]"
     ]
    },
    {
     "name": "stdout",
     "output_type": "stream",
     "text": [
      "Epoch 109/120 - Average Test Loss: 0.726607 - Average Test Accuracy: 0.743715\n",
      "---***---\n",
      "Epoch 110/120 - Average Training Loss: 0.023363 - Average Training Accuracy: 0.976840\n"
     ]
    },
    {
     "name": "stderr",
     "output_type": "stream",
     "text": [
      " 92%|█████████▎| 111/120 [1:14:43<06:03, 40.33s/it]"
     ]
    },
    {
     "name": "stdout",
     "output_type": "stream",
     "text": [
      "Epoch 110/120 - Average Test Loss: 0.690251 - Average Test Accuracy: 0.762847\n",
      "---***---\n",
      "Epoch 111/120 - Average Training Loss: 0.009836 - Average Training Accuracy: 0.991024\n"
     ]
    },
    {
     "name": "stderr",
     "output_type": "stream",
     "text": [
      " 93%|█████████▎| 112/120 [1:15:24<05:22, 40.35s/it]"
     ]
    },
    {
     "name": "stdout",
     "output_type": "stream",
     "text": [
      "Epoch 111/120 - Average Test Loss: 0.730048 - Average Test Accuracy: 0.770851\n",
      "---***---\n",
      "Epoch 112/120 - Average Training Loss: 0.008902 - Average Training Accuracy: 0.992021\n"
     ]
    },
    {
     "name": "stderr",
     "output_type": "stream",
     "text": [
      " 94%|█████████▍| 113/120 [1:16:04<04:42, 40.38s/it]"
     ]
    },
    {
     "name": "stdout",
     "output_type": "stream",
     "text": [
      "Epoch 112/120 - Average Test Loss: 0.686403 - Average Test Accuracy: 0.778611\n",
      "---***---\n",
      "Epoch 113/120 - Average Training Loss: 0.003607 - Average Training Accuracy: 0.998116\n"
     ]
    },
    {
     "name": "stderr",
     "output_type": "stream",
     "text": [
      " 95%|█████████▌| 114/120 [1:16:45<04:02, 40.37s/it]"
     ]
    },
    {
     "name": "stdout",
     "output_type": "stream",
     "text": [
      "Epoch 113/120 - Average Test Loss: 0.673260 - Average Test Accuracy: 0.793594\n",
      "---***---\n",
      "Epoch 114/120 - Average Training Loss: 0.001617 - Average Training Accuracy: 0.999446\n"
     ]
    },
    {
     "name": "stderr",
     "output_type": "stream",
     "text": [
      " 96%|█████████▌| 115/120 [1:17:25<03:21, 40.35s/it]"
     ]
    },
    {
     "name": "stdout",
     "output_type": "stream",
     "text": [
      "Epoch 114/120 - Average Test Loss: 0.675911 - Average Test Accuracy: 0.792292\n",
      "---***---\n",
      "Epoch 115/120 - Average Training Loss: 0.001240 - Average Training Accuracy: 0.999778\n"
     ]
    },
    {
     "name": "stderr",
     "output_type": "stream",
     "text": [
      " 97%|█████████▋| 116/120 [1:18:05<02:41, 40.34s/it]"
     ]
    },
    {
     "name": "stdout",
     "output_type": "stream",
     "text": [
      "Epoch 115/120 - Average Test Loss: 0.675106 - Average Test Accuracy: 0.797187\n",
      "---***---\n",
      "Epoch 116/120 - Average Training Loss: 0.001131 - Average Training Accuracy: 0.999889\n"
     ]
    },
    {
     "name": "stderr",
     "output_type": "stream",
     "text": [
      " 98%|█████████▊| 117/120 [1:18:46<02:01, 40.37s/it]"
     ]
    },
    {
     "name": "stdout",
     "output_type": "stream",
     "text": [
      "Epoch 116/120 - Average Test Loss: 0.638517 - Average Test Accuracy: 0.805122\n",
      "---***---\n",
      "New best model saved with accuracy: 0.805122\n",
      "---------------------------***---------------------------\n",
      "Epoch 117/120 - Average Training Loss: 0.001012 - Average Training Accuracy: 0.999889\n"
     ]
    },
    {
     "name": "stderr",
     "output_type": "stream",
     "text": [
      " 98%|█████████▊| 118/120 [1:19:26<01:20, 40.34s/it]"
     ]
    },
    {
     "name": "stdout",
     "output_type": "stream",
     "text": [
      "Epoch 117/120 - Average Test Loss: 0.697998 - Average Test Accuracy: 0.794340\n",
      "---***---\n",
      "Epoch 118/120 - Average Training Loss: 0.001327 - Average Training Accuracy: 0.999668\n"
     ]
    },
    {
     "name": "stderr",
     "output_type": "stream",
     "text": [
      " 99%|█████████▉| 119/120 [1:20:06<00:40, 40.33s/it]"
     ]
    },
    {
     "name": "stdout",
     "output_type": "stream",
     "text": [
      "Epoch 118/120 - Average Test Loss: 0.681185 - Average Test Accuracy: 0.797378\n",
      "---***---\n",
      "Epoch 119/120 - Average Training Loss: 0.000800 - Average Training Accuracy: 0.999778\n"
     ]
    },
    {
     "name": "stderr",
     "output_type": "stream",
     "text": [
      "100%|██████████| 120/120 [1:20:47<00:00, 40.39s/it]"
     ]
    },
    {
     "name": "stdout",
     "output_type": "stream",
     "text": [
      "Epoch 119/120 - Average Test Loss: 0.689221 - Average Test Accuracy: 0.794219\n",
      "---***---\n"
     ]
    },
    {
     "name": "stderr",
     "output_type": "stream",
     "text": [
      "\n"
     ]
    },
    {
     "name": "stdout",
     "output_type": "stream",
     "text": [
      "repeat_ 0 [0.8045977011494253]\n",
      "{'repeat_0': {'0': {'precision': 0.7485714285714286, 'recall': 0.6421568627450981, 'f1-score': 0.691292875989446, 'support': 204}, '1': {'precision': 0.7065217391304348, 'recall': 0.6403940886699507, 'f1-score': 0.6718346253229973, 'support': 203}, '2': {'precision': 0.7025316455696202, 'recall': 0.5967741935483871, 'f1-score': 0.6453488372093023, 'support': 186}, '3': {'precision': 0.7294117647058823, 'recall': 0.6666666666666666, 'f1-score': 0.696629213483146, 'support': 186}, '4': {'precision': 0.6914285714285714, 'recall': 0.5960591133004927, 'f1-score': 0.6402116402116402, 'support': 203}, 'micro avg': {'precision': 0.7157772621809745, 'recall': 0.6283095723014257, 'f1-score': 0.6691973969631236, 'support': 982}, 'macro avg': {'precision': 0.7156930298811874, 'recall': 0.6284101849861191, 'f1-score': 0.6690634384433064, 'support': 982}, 'weighted avg': {'precision': 0.7157168623047792, 'recall': 0.6283095723014257, 'f1-score': 0.6690194053301158, 'support': 982}, 'samples avg': {'precision': 0.26282051282051283, 'recall': 0.27276746242263483, 'f1-score': 0.2661361626878868, 'support': 982}}}\n",
      "{'repeat_0': {'0': {'precision': 0.7485714285714286, 'recall': 0.6421568627450981, 'f1-score': 0.691292875989446, 'support': 204}, '1': {'precision': 0.7065217391304348, 'recall': 0.6403940886699507, 'f1-score': 0.6718346253229973, 'support': 203}, '2': {'precision': 0.7025316455696202, 'recall': 0.5967741935483871, 'f1-score': 0.6453488372093023, 'support': 186}, '3': {'precision': 0.7294117647058823, 'recall': 0.6666666666666666, 'f1-score': 0.696629213483146, 'support': 186}, '4': {'precision': 0.6914285714285714, 'recall': 0.5960591133004927, 'f1-score': 0.6402116402116402, 'support': 203}, 'micro avg': {'precision': 0.7157772621809745, 'recall': 0.6283095723014257, 'f1-score': 0.6691973969631236, 'support': 982}, 'macro avg': {'precision': 0.7156930298811874, 'recall': 0.6284101849861191, 'f1-score': 0.6690634384433064, 'support': 982}, 'weighted avg': {'precision': 0.7157168623047792, 'recall': 0.6283095723014257, 'f1-score': 0.6690194053301158, 'support': 982}, 'samples avg': {'precision': 0.26282051282051283, 'recall': 0.27276746242263483, 'f1-score': 0.2661361626878868, 'support': 982}}, 'accuracy': {'avg': 0.8045977011494253, 'std': 0.0}, 'time_train': {'avg': 4847.223097324371, 'std': 0.0}, 'time_test': {'avg': 3.2526941299438477, 'std': 0.0}, 'complexity': {'parameter': 11185630, 'flops': 57643987516}, 'model': 'resnet', 'task': 'location', 'data': {'num_users': ['0', '1', '2', '3', '4', '5'], 'wifi_band': ['2.4'], 'environment': ['classroom'], 'length': 3000}, 'nn': {'lr': 0.001, 'epoch': 120, 'batch_size': 32, 'threshold': 0.5}}\n"
     ]
    }
   ],
   "source": [
    "run()"
   ]
  },
  {
   "cell_type": "code",
   "execution_count": null,
   "id": "d0ef2b43",
   "metadata": {
    "papermill": {
     "duration": 0.018908,
     "end_time": "2025-01-18T16:04:42.005498",
     "exception": false,
     "start_time": "2025-01-18T16:04:41.986590",
     "status": "completed"
    },
    "tags": []
   },
   "outputs": [],
   "source": []
  },
  {
   "cell_type": "code",
   "execution_count": null,
   "id": "b59ac32f",
   "metadata": {
    "papermill": {
     "duration": 0.019283,
     "end_time": "2025-01-18T16:04:42.043987",
     "exception": false,
     "start_time": "2025-01-18T16:04:42.024704",
     "status": "completed"
    },
    "tags": []
   },
   "outputs": [],
   "source": []
  }
 ],
 "metadata": {
  "kaggle": {
   "accelerator": "gpu",
   "dataSources": [
    {
     "datasetId": 4451316,
     "sourceId": 7638081,
     "sourceType": "datasetVersion"
    },
    {
     "datasetId": 6473291,
     "sourceId": 10456995,
     "sourceType": "datasetVersion"
    }
   ],
   "dockerImageVersionId": 30823,
   "isGpuEnabled": true,
   "isInternetEnabled": true,
   "language": "python",
   "sourceType": "notebook"
  },
  "kernelspec": {
   "display_name": "Python 3",
   "language": "python",
   "name": "python3"
  },
  "language_info": {
   "codemirror_mode": {
    "name": "ipython",
    "version": 3
   },
   "file_extension": ".py",
   "mimetype": "text/x-python",
   "name": "python",
   "nbconvert_exporter": "python",
   "pygments_lexer": "ipython3",
   "version": "3.10.12"
  },
  "papermill": {
   "default_parameters": {},
   "duration": 4940.892862,
   "end_time": "2025-01-18T16:04:44.597928",
   "environment_variables": {},
   "exception": null,
   "input_path": "__notebook__.ipynb",
   "output_path": "__notebook__.ipynb",
   "parameters": {},
   "start_time": "2025-01-18T14:42:23.705066",
   "version": "2.6.0"
  }
 },
 "nbformat": 4,
 "nbformat_minor": 5
}
